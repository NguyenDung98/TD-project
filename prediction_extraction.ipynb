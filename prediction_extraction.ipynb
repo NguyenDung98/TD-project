{
 "cells": [
  {
   "cell_type": "code",
   "execution_count": 3,
   "metadata": {},
   "outputs": [],
   "source": [
    "import pandas as pd"
   ]
  },
  {
   "cell_type": "code",
   "execution_count": 4,
   "metadata": {},
   "outputs": [],
   "source": [
    "def readFile(filename):\n",
    "    data = open(filename, newline='\\n', encoding='utf-8')\n",
    "    # data = open('__label__tai_chinh.txt', newline=None, encoding='utf-8')\n",
    "    data.read()\n",
    "    data.seek(0)\n",
    "    lines = data.readlines()\n",
    "    lowercaseLines = list(map(lambda line: line.lower(), lines))\n",
    "    return lowercaseLines"
   ]
  },
  {
   "cell_type": "code",
   "execution_count": 5,
   "metadata": {},
   "outputs": [],
   "source": [
    "full_prediction = list(map(lambda line: line.replace('\\n', \"\"), readFile('py/predictions.txt')))"
   ]
  },
  {
   "cell_type": "code",
   "execution_count": 6,
   "metadata": {},
   "outputs": [],
   "source": [
    "sixty_prediction = list(map(lambda line: line.replace('\\n', \"\"), readFile('py/predictions_60.txt')))"
   ]
  },
  {
   "cell_type": "code",
   "execution_count": 7,
   "metadata": {},
   "outputs": [],
   "source": [
    "fasttext_prediction = list(map(lambda line: line.replace('\\n', \"\"), readFile('py/predictions_fasttext.txt')))"
   ]
  },
  {
   "cell_type": "code",
   "execution_count": 33,
   "metadata": {},
   "outputs": [],
   "source": [
    "real_label = {'__label__nha_dat': '__label__Nha_dat',\n",
    " '__label__kinh_doanh_va_cong_nghiep': '__label__Kinh_doanh_va_Cong_nghiep',\n",
    "'__label__do_an_va_do_uong': '__label__Do_an_va_do_uong',\n",
    " '__label__tai_chinh': '__label__Tai_chinh',\n",
    " '__label__mua_sam': '__label__Mua_sam',\n",
    " '__label__du_lich': '__label__Du_lich',\n",
    "'__label__chinh_tri': '__label__Chinh_tri',\n",
    " '__label__giao_duc': '__label__Giao_duc',\n",
    " '__label__nghe_thuat': '__label__Nghe_thuat',\n",
    "'__label__mang_internet_va_vien_thong': '__label__Mang_internet_va_vien_thong',\n",
    "'__label__sach': '__label__Sach',\n",
    " '__label__con_nguoi_va_xa_hoi': '__label__Con_nguoi_va_xa_hoi',\n",
    "  '__label__lam_dep_va_the_hinh': '__label__Lam_dep_va_the_hinh',\n",
    " '__label__nha_va_vuon': '__label__Nha_va_vuon',\n",
    "'__label__giai_tri': '__label__Giai_tri',\n",
    " '__label__may_tinh_va_thiet_bi_dien_tu': '__label__May_tinh_va_thiet_bi_dien_tu',\n",
    " '__label__suc_khoe_va_benh_tat': '__label__Suc_khoe_va_benh_tat',\n",
    "'__label__thoi_quen_va_so_thich': '__label__Thoi_quen_va_so_thich',\n",
    " '__label__khoa_hoc': '__label__Khoa_hoc',\n",
    " '__label__phap_luat': '__label__Phap_luat',\n",
    "'__label__giao_thong':  '__label__Giao_thong',\n",
    " '__label__the_thao': '__label__The_thao',\n",
    " '__label__cong_nghe_moi': '__label__Cong_nghe_moi'}"
   ]
  },
  {
   "cell_type": "code",
   "execution_count": 38,
   "metadata": {},
   "outputs": [],
   "source": [
    "full_prediction = list(map(lambda label: real_label[label], full_prediction))"
   ]
  },
  {
   "cell_type": "code",
   "execution_count": 41,
   "metadata": {},
   "outputs": [],
   "source": [
    "sixty_prediction = list(map(lambda label: real_label[label], sixty_prediction))"
   ]
  },
  {
   "cell_type": "code",
   "execution_count": 51,
   "metadata": {},
   "outputs": [],
   "source": [
    "fasttext_prediction = list(map(lambda label: real_label[label], fasttext_prediction))"
   ]
  },
  {
   "cell_type": "code",
   "execution_count": 56,
   "metadata": {},
   "outputs": [],
   "source": [
    "store_file('predictions.txt', full_prediction, [\"\"] * len(full_prediction))"
   ]
  },
  {
   "cell_type": "code",
   "execution_count": 47,
   "metadata": {},
   "outputs": [],
   "source": [
    "store_file('predictions_60.txt', sixty_prediction, [\"\"] * len(sixty_prediction))"
   ]
  },
  {
   "cell_type": "code",
   "execution_count": 85,
   "metadata": {},
   "outputs": [],
   "source": [
    "predictions = []\n",
    "outlier = ['__label__Tai_chinh', '__label__Kinh_doanh_va_Cong_nghiep']\n",
    "for index,(full, six, fast) in enumerate(zip(full_prediction, sixty_prediction, fasttext_prediction)):\n",
    "    if (full != six and (full == fast or six == fast) and outlier.count(fast) != 1):\n",
    "        if (['__label__Do_an_va_do_uong', '__label__Suc_khoe_va_benh_tat'].count(six) == 1):\n",
    "            predictions.append(six)\n",
    "        else:\n",
    "            predictions.append(full)\n",
    "    elif (full != six and (full == fast or six == fast) and outlier.count(fast) == 1):\n",
    "        if full == fast:\n",
    "            predictions.append(full)\n",
    "        elif six == fast:\n",
    "            predictions.append(six)\n",
    "    else:\n",
    "        predictions.append(full)"
   ]
  },
  {
   "cell_type": "code",
   "execution_count": 80,
   "metadata": {},
   "outputs": [
    {
     "data": {
      "text/html": [
       "<div>\n",
       "<style scoped>\n",
       "    .dataframe tbody tr th:only-of-type {\n",
       "        vertical-align: middle;\n",
       "    }\n",
       "\n",
       "    .dataframe tbody tr th {\n",
       "        vertical-align: top;\n",
       "    }\n",
       "\n",
       "    .dataframe thead th {\n",
       "        text-align: right;\n",
       "    }\n",
       "</style>\n",
       "<table border=\"1\" class=\"dataframe\">\n",
       "  <thead>\n",
       "    <tr style=\"text-align: right;\">\n",
       "      <th></th>\n",
       "    </tr>\n",
       "    <tr>\n",
       "      <th>0</th>\n",
       "    </tr>\n",
       "  </thead>\n",
       "  <tbody>\n",
       "    <tr>\n",
       "      <th>__label__Chinh_tri</th>\n",
       "    </tr>\n",
       "    <tr>\n",
       "      <th>__label__Con_nguoi_va_xa_hoi</th>\n",
       "    </tr>\n",
       "    <tr>\n",
       "      <th>__label__Cong_nghe_moi</th>\n",
       "    </tr>\n",
       "    <tr>\n",
       "      <th>__label__Do_an_va_do_uong</th>\n",
       "    </tr>\n",
       "    <tr>\n",
       "      <th>__label__Du_lich</th>\n",
       "    </tr>\n",
       "    <tr>\n",
       "      <th>__label__Giai_tri</th>\n",
       "    </tr>\n",
       "    <tr>\n",
       "      <th>__label__Giao_duc</th>\n",
       "    </tr>\n",
       "    <tr>\n",
       "      <th>__label__Giao_thong</th>\n",
       "    </tr>\n",
       "    <tr>\n",
       "      <th>__label__Khoa_hoc</th>\n",
       "    </tr>\n",
       "    <tr>\n",
       "      <th>__label__Kinh_doanh_va_Cong_nghiep</th>\n",
       "    </tr>\n",
       "    <tr>\n",
       "      <th>__label__Lam_dep_va_the_hinh</th>\n",
       "    </tr>\n",
       "    <tr>\n",
       "      <th>__label__Mang_internet_va_vien_thong</th>\n",
       "    </tr>\n",
       "    <tr>\n",
       "      <th>__label__May_tinh_va_thiet_bi_dien_tu</th>\n",
       "    </tr>\n",
       "    <tr>\n",
       "      <th>__label__Mua_sam</th>\n",
       "    </tr>\n",
       "    <tr>\n",
       "      <th>__label__Nghe_thuat</th>\n",
       "    </tr>\n",
       "    <tr>\n",
       "      <th>__label__Nha_dat</th>\n",
       "    </tr>\n",
       "    <tr>\n",
       "      <th>__label__Nha_va_vuon</th>\n",
       "    </tr>\n",
       "    <tr>\n",
       "      <th>__label__Phap_luat</th>\n",
       "    </tr>\n",
       "    <tr>\n",
       "      <th>__label__Sach</th>\n",
       "    </tr>\n",
       "    <tr>\n",
       "      <th>__label__Suc_khoe_va_benh_tat</th>\n",
       "    </tr>\n",
       "    <tr>\n",
       "      <th>__label__Tai_chinh</th>\n",
       "    </tr>\n",
       "    <tr>\n",
       "      <th>__label__The_thao</th>\n",
       "    </tr>\n",
       "    <tr>\n",
       "      <th>__label__Thoi_quen_va_so_thich</th>\n",
       "    </tr>\n",
       "  </tbody>\n",
       "</table>\n",
       "</div>"
      ],
      "text/plain": [
       "Empty DataFrame\n",
       "Columns: []\n",
       "Index: [__label__Chinh_tri, __label__Con_nguoi_va_xa_hoi, __label__Cong_nghe_moi, __label__Do_an_va_do_uong, __label__Du_lich, __label__Giai_tri, __label__Giao_duc, __label__Giao_thong, __label__Khoa_hoc, __label__Kinh_doanh_va_Cong_nghiep, __label__Lam_dep_va_the_hinh, __label__Mang_internet_va_vien_thong, __label__May_tinh_va_thiet_bi_dien_tu, __label__Mua_sam, __label__Nghe_thuat, __label__Nha_dat, __label__Nha_va_vuon, __label__Phap_luat, __label__Sach, __label__Suc_khoe_va_benh_tat, __label__Tai_chinh, __label__The_thao, __label__Thoi_quen_va_so_thich]"
      ]
     },
     "execution_count": 80,
     "metadata": {},
     "output_type": "execute_result"
    }
   ],
   "source": [
    "df.groupby(0).count()"
   ]
  },
  {
   "cell_type": "code",
   "execution_count": 10,
   "metadata": {},
   "outputs": [],
   "source": [
    "def store_file(output_file, features, labels):\n",
    "    \"\"\"Write the training data in fasttext format to disk.\n",
    "    :param output_file: the name of the output file.\n",
    "    :param features: the features, a list of strings.\n",
    "    :param labels: the labels associated with features.\n",
    "    \"\"\"\n",
    "    with open(output_file, 'w', newline='\\n', encoding='utf-8') as f:\n",
    "        for i in range(0, len(features)):\n",
    "            if labels[i] == '':\n",
    "                f.write(\"%s\\n\" % (features[i]))\n",
    "            else:\n",
    "                f.write(\"%s %s\\n\" % (labels[i], features[i]))                "
   ]
  },
  {
   "cell_type": "code",
   "execution_count": 86,
   "metadata": {},
   "outputs": [],
   "source": [
    "store_file('predictions_optimal.txt', predictions, [\"\"] * len(predictions))"
   ]
  },
  {
   "cell_type": "code",
   "execution_count": 82,
   "metadata": {},
   "outputs": [],
   "source": [
    "lines = readFile('topic_detection_test.v1.0.txt')"
   ]
  },
  {
   "cell_type": "code",
   "execution_count": 83,
   "metadata": {},
   "outputs": [],
   "source": [
    "df = pd.DataFrame(lines)"
   ]
  },
  {
   "cell_type": "code",
   "execution_count": 84,
   "metadata": {},
   "outputs": [
    {
     "data": {
      "text/plain": [
       "'why is software eating the world again :p ? . 1) graphics and tensor processors are eating linear algebra. . 2) linear algebra is eating deep learning. . 3) deep learning is eating machine learning. . 4) machine learning is eating artificial intelligence. . 5) artificial intelligence is eating software. . 6) software is eating the world.\\r\\n'"
      ]
     },
     "execution_count": 84,
     "metadata": {},
     "output_type": "execute_result"
    }
   ],
   "source": [
    "# df[0][25] # Giáo dục - six\n",
    "# df[0][27] # Công nghiệp - six, fasttext\n",
    "# df[0][33] # Thể thao - Full, six\n",
    "# df[0][36] # Công nghệ mới - Full, six\n",
    "# df[0][40] # Giáo dục - Full\n",
    "df[0][6787]"
   ]
  },
  {
   "cell_type": "code",
   "execution_count": 100,
   "metadata": {},
   "outputs": [],
   "source": [
    "postdf = pd.read_csv('./py/post.csv')"
   ]
  },
  {
   "cell_type": "code",
   "execution_count": 113,
   "metadata": {},
   "outputs": [
    {
     "data": {
      "text/html": [
       "<div>\n",
       "<style scoped>\n",
       "    .dataframe tbody tr th:only-of-type {\n",
       "        vertical-align: middle;\n",
       "    }\n",
       "\n",
       "    .dataframe tbody tr th {\n",
       "        vertical-align: top;\n",
       "    }\n",
       "\n",
       "    .dataframe thead th {\n",
       "        text-align: right;\n",
       "    }\n",
       "</style>\n",
       "<table border=\"1\" class=\"dataframe\">\n",
       "  <thead>\n",
       "    <tr style=\"text-align: right;\">\n",
       "      <th></th>\n",
       "      <th>Index</th>\n",
       "      <th>Correct label</th>\n",
       "      <th>six</th>\n",
       "      <th>full</th>\n",
       "      <th>fasttext</th>\n",
       "    </tr>\n",
       "  </thead>\n",
       "  <tbody>\n",
       "    <tr>\n",
       "      <th>1</th>\n",
       "      <td>27</td>\n",
       "      <td>__label__Kinh_doanh_va_Cong_nghiep</td>\n",
       "      <td>1</td>\n",
       "      <td>0</td>\n",
       "      <td>1</td>\n",
       "    </tr>\n",
       "    <tr>\n",
       "      <th>5</th>\n",
       "      <td>41</td>\n",
       "      <td>__label__Giao_thong</td>\n",
       "      <td>0</td>\n",
       "      <td>0</td>\n",
       "      <td>1</td>\n",
       "    </tr>\n",
       "    <tr>\n",
       "      <th>7</th>\n",
       "      <td>44</td>\n",
       "      <td>__label__Tai_chinh</td>\n",
       "      <td>0</td>\n",
       "      <td>1</td>\n",
       "      <td>1</td>\n",
       "    </tr>\n",
       "    <tr>\n",
       "      <th>12</th>\n",
       "      <td>71</td>\n",
       "      <td>__label__Tai_chinh</td>\n",
       "      <td>0</td>\n",
       "      <td>0</td>\n",
       "      <td>1</td>\n",
       "    </tr>\n",
       "    <tr>\n",
       "      <th>13</th>\n",
       "      <td>76</td>\n",
       "      <td>__label__Tai_chinh</td>\n",
       "      <td>0</td>\n",
       "      <td>0</td>\n",
       "      <td>1</td>\n",
       "    </tr>\n",
       "    <tr>\n",
       "      <th>17</th>\n",
       "      <td>86</td>\n",
       "      <td>__label__Tai_chinh</td>\n",
       "      <td>1</td>\n",
       "      <td>0</td>\n",
       "      <td>1</td>\n",
       "    </tr>\n",
       "    <tr>\n",
       "      <th>19</th>\n",
       "      <td>110</td>\n",
       "      <td>__label__Tai_chinh</td>\n",
       "      <td>0</td>\n",
       "      <td>1</td>\n",
       "      <td>1</td>\n",
       "    </tr>\n",
       "    <tr>\n",
       "      <th>23</th>\n",
       "      <td>133</td>\n",
       "      <td>__label__Tai_chinh</td>\n",
       "      <td>0</td>\n",
       "      <td>0</td>\n",
       "      <td>1</td>\n",
       "    </tr>\n",
       "    <tr>\n",
       "      <th>24</th>\n",
       "      <td>136</td>\n",
       "      <td>__label__Tai_chinh</td>\n",
       "      <td>0</td>\n",
       "      <td>1</td>\n",
       "      <td>1</td>\n",
       "    </tr>\n",
       "    <tr>\n",
       "      <th>30</th>\n",
       "      <td>148</td>\n",
       "      <td>__label__Tai_chinh</td>\n",
       "      <td>0</td>\n",
       "      <td>1</td>\n",
       "      <td>1</td>\n",
       "    </tr>\n",
       "    <tr>\n",
       "      <th>32</th>\n",
       "      <td>155</td>\n",
       "      <td>__label__Tai_chinh</td>\n",
       "      <td>1</td>\n",
       "      <td>0</td>\n",
       "      <td>1</td>\n",
       "    </tr>\n",
       "    <tr>\n",
       "      <th>34</th>\n",
       "      <td>166</td>\n",
       "      <td>__label__Tai_chinh</td>\n",
       "      <td>0</td>\n",
       "      <td>1</td>\n",
       "      <td>1</td>\n",
       "    </tr>\n",
       "    <tr>\n",
       "      <th>40</th>\n",
       "      <td>191</td>\n",
       "      <td>__label__Tai_chinh</td>\n",
       "      <td>0</td>\n",
       "      <td>0</td>\n",
       "      <td>1</td>\n",
       "    </tr>\n",
       "    <tr>\n",
       "      <th>41</th>\n",
       "      <td>195</td>\n",
       "      <td>__label__Tai_chinh</td>\n",
       "      <td>0</td>\n",
       "      <td>1</td>\n",
       "      <td>1</td>\n",
       "    </tr>\n",
       "    <tr>\n",
       "      <th>43</th>\n",
       "      <td>199</td>\n",
       "      <td>__label__Tai_chinh</td>\n",
       "      <td>1</td>\n",
       "      <td>0</td>\n",
       "      <td>1</td>\n",
       "    </tr>\n",
       "    <tr>\n",
       "      <th>46</th>\n",
       "      <td>212</td>\n",
       "      <td>__label__Tai_chinh</td>\n",
       "      <td>0</td>\n",
       "      <td>0</td>\n",
       "      <td>1</td>\n",
       "    </tr>\n",
       "    <tr>\n",
       "      <th>48</th>\n",
       "      <td>217</td>\n",
       "      <td>__label__Tai_chinh</td>\n",
       "      <td>0</td>\n",
       "      <td>1</td>\n",
       "      <td>1</td>\n",
       "    </tr>\n",
       "    <tr>\n",
       "      <th>50</th>\n",
       "      <td>228</td>\n",
       "      <td>__label__Tai_chinh</td>\n",
       "      <td>1</td>\n",
       "      <td>0</td>\n",
       "      <td>1</td>\n",
       "    </tr>\n",
       "    <tr>\n",
       "      <th>53</th>\n",
       "      <td>241</td>\n",
       "      <td>__label__Tai_chinh</td>\n",
       "      <td>1</td>\n",
       "      <td>0</td>\n",
       "      <td>1</td>\n",
       "    </tr>\n",
       "    <tr>\n",
       "      <th>64</th>\n",
       "      <td>271</td>\n",
       "      <td>__label__Con_nguoi_va_xa_hoi</td>\n",
       "      <td>0</td>\n",
       "      <td>1</td>\n",
       "      <td>1</td>\n",
       "    </tr>\n",
       "  </tbody>\n",
       "</table>\n",
       "</div>"
      ],
      "text/plain": [
       "    Index                       Correct label  six  full  fasttext\n",
       "1      27  __label__Kinh_doanh_va_Cong_nghiep    1     0         1\n",
       "5      41                 __label__Giao_thong    0     0         1\n",
       "7      44                  __label__Tai_chinh    0     1         1\n",
       "12     71                  __label__Tai_chinh    0     0         1\n",
       "13     76                  __label__Tai_chinh    0     0         1\n",
       "17     86                  __label__Tai_chinh    1     0         1\n",
       "19    110                  __label__Tai_chinh    0     1         1\n",
       "23    133                  __label__Tai_chinh    0     0         1\n",
       "24    136                  __label__Tai_chinh    0     1         1\n",
       "30    148                  __label__Tai_chinh    0     1         1\n",
       "32    155                  __label__Tai_chinh    1     0         1\n",
       "34    166                  __label__Tai_chinh    0     1         1\n",
       "40    191                  __label__Tai_chinh    0     0         1\n",
       "41    195                  __label__Tai_chinh    0     1         1\n",
       "43    199                  __label__Tai_chinh    1     0         1\n",
       "46    212                  __label__Tai_chinh    0     0         1\n",
       "48    217                  __label__Tai_chinh    0     1         1\n",
       "50    228                  __label__Tai_chinh    1     0         1\n",
       "53    241                  __label__Tai_chinh    1     0         1\n",
       "64    271        __label__Con_nguoi_va_xa_hoi    0     1         1"
      ]
     },
     "execution_count": 113,
     "metadata": {},
     "output_type": "execute_result"
    }
   ],
   "source": [
    "postdf.query('fasttext == 1')"
   ]
  },
  {
   "cell_type": "code",
   "execution_count": null,
   "metadata": {},
   "outputs": [],
   "source": []
  }
 ],
 "metadata": {
  "kernelspec": {
   "display_name": "Python 3",
   "language": "python",
   "name": "python3"
  },
  "language_info": {
   "codemirror_mode": {
    "name": "ipython",
    "version": 3
   },
   "file_extension": ".py",
   "mimetype": "text/x-python",
   "name": "python",
   "nbconvert_exporter": "python",
   "pygments_lexer": "ipython3",
   "version": "3.7.0"
  }
 },
 "nbformat": 4,
 "nbformat_minor": 2
}
