{
 "cells": [
  {
   "cell_type": "markdown",
   "metadata": {},
   "source": [
    "Nhập data"
   ]
  },
  {
   "cell_type": "code",
   "execution_count": 1,
   "metadata": {},
   "outputs": [],
   "source": [
    "import os\n",
    "import fasttext\n",
    "import re\n",
    "from sklearn.feature_extraction.text import TfidfVectorizer\n",
    "import numpy\n",
    "from joblib import dump, load"
   ]
  },
  {
   "cell_type": "code",
   "execution_count": 8,
   "metadata": {},
   "outputs": [],
   "source": [
    "data = open('topic_detection_test.v1.0.txt', newline=None, encoding='utf-8')\n",
    "# data = open('__label__tai_chinh.txt', newline=None, encoding='utf-8')\n",
    "data.read()\n",
    "data.seek(0)\n",
    "lines = data.readlines()\n",
    "lowercaseLines = list(map(lambda line: line.lower(), lines))"
   ]
  },
  {
   "cell_type": "code",
   "execution_count": 9,
   "metadata": {},
   "outputs": [],
   "source": [
    "linesWithoutLinks = list(map(lambda line: re.sub(r\"https?\\s*:\\s*\\/\\/(www\\.)?[-a-zA-Z0-9@:%._\\+~#=]{2,256}\\.[a-z]{2,4}\\b([-a-zA-Z0-9@:%_\\+.~#?&//=]*)\", '', line), lowercaseLines))"
   ]
  },
  {
   "cell_type": "code",
   "execution_count": 10,
   "metadata": {},
   "outputs": [],
   "source": [
    "linesFormattedDot = list(map(lambda line: re.sub(r\"\\s*\\.+\\s*(\\.*\\s*){100}\", ' punc ', line), linesWithoutLinks))"
   ]
  },
  {
   "cell_type": "code",
   "execution_count": 11,
   "metadata": {},
   "outputs": [],
   "source": [
    "linesWithoutWierdChar = list(map(lambda line: re.sub(r'[\\d\\W]+', ' ', line), linesFormattedDot))"
   ]
  },
  {
   "cell_type": "code",
   "execution_count": 24,
   "metadata": {},
   "outputs": [],
   "source": [
    "# formattedLines = list(map(lambda line: line.replace('\\n', '').split(\" \", 1), lines))\n",
    "formattedLines = list(map(lambda line: line.replace('\\n', '').split(\" \", 1), linesWithoutWierdChar))"
   ]
  },
  {
   "cell_type": "code",
   "execution_count": 27,
   "metadata": {},
   "outputs": [],
   "source": [
    "import pandas as pd"
   ]
  },
  {
   "cell_type": "code",
   "execution_count": 36,
   "metadata": {},
   "outputs": [],
   "source": [
    "# df = pd.DataFrame(formattedLines, columns=['label', 'content'])\n",
    "df = pd.DataFrame(linesWithoutWierdChar, columns=['content'])"
   ]
  },
  {
   "cell_type": "code",
   "execution_count": 38,
   "metadata": {},
   "outputs": [],
   "source": [
    "datalist = df['content'].tolist();\n",
    "linesWithoutUnderScores = list((map(lambda line: re.sub(r'_+', ' ', line), datalist)))"
   ]
  },
  {
   "cell_type": "code",
   "execution_count": 1370,
   "metadata": {},
   "outputs": [],
   "source": [
    "def convert_brief_char_to_word(matchobj):\n",
    "    string = matchobj.group(0)\n",
    "    foundNum = re.findall('\\d+', string);\n",
    "    result = string\n",
    "    if len(foundNum) > 0:\n",
    "        num = foundNum[0]\n",
    "        left = \" \" + foundNum[1] + \" \" if len(foundNum) > 1 else \"\"\n",
    "        result = num\n",
    "        if len(num) < len(string):\n",
    "            char = string[len(num):len(string)] if left == \"\" else string[len(num):len(string) - len(left) + 2]\n",
    "            obj = {\n",
    "                'đ': 'đồng',\n",
    "                'k': 'nghìn',\n",
    "                'tr': 'triệu',\n",
    "                'h': 'giờ',\n",
    "                'm': 'mét',\n",
    "                'm²': 'mét vuông',\n",
    "                'pn': 'phòng ngủ',\n",
    "            }\n",
    "            if obj.get(char) != None:\n",
    "                result += \" \" + obj.get(char) + left\n",
    "            else:\n",
    "                result += \" \" + char + left\n",
    "    return result"
   ]
  },
  {
   "cell_type": "code",
   "execution_count": 1371,
   "metadata": {},
   "outputs": [],
   "source": [
    "splittedNumAndWordLines = list((map(lambda line: re.sub(r'\\d*[a-zđ²]+\\d*', convert_brief_char_to_word,line), linesWithoutUnderScores)))"
   ]
  },
  {
   "cell_type": "code",
   "execution_count": 1372,
   "metadata": {},
   "outputs": [],
   "source": [
    "def convert_num_to_word(matchobj):\n",
    "    num = matchobj.group(0)\n",
    "    if len(num) > 7 or num[0] == '0':\n",
    "        num = \" \".join(list(map(lambda char: num2words(int(char), lang='vi'),list(num))))\n",
    "        return num;\n",
    "    return num2words(int(num), lang='vi')"
   ]
  },
  {
   "cell_type": "code",
   "execution_count": 1373,
   "metadata": {},
   "outputs": [],
   "source": [
    "num2wordsLines = list((map(lambda line: re.sub(r'\\d+', convert_num_to_word,line), splittedNumAndWordLines)))"
   ]
  },
  {
   "cell_type": "code",
   "execution_count": 39,
   "metadata": {},
   "outputs": [],
   "source": [
    "# removedOneWordLines = list((map(lambda line: re.sub(r'\\s+\\w\\s+', \" \",line), num2wordsLines)))\n",
    "removedOneWordLines = list((map(lambda line: re.sub(r'\\s+\\w\\s+', \" \",line), linesWithoutUnderScores)))"
   ]
  },
  {
   "cell_type": "markdown",
   "metadata": {},
   "source": [
    "Skip "
   ]
  },
  {
   "cell_type": "code",
   "execution_count": 232,
   "metadata": {},
   "outputs": [],
   "source": [
    "def get_stopwords(documents, threshold=3):\n",
    "    \"\"\"\n",
    "    :param documents: list of documents\n",
    "    :param threshold:\n",
    "    :return: list of words has idf <= threshold\n",
    "    \"\"\"\n",
    "    tfidf = TfidfVectorizer(min_df=100)\n",
    "    tfidf_matrix = tfidf.fit_transform(documents)\n",
    "    features = tfidf.get_feature_names()\n",
    "    stopwords = []\n",
    "    print(min(tfidf.idf_), max(tfidf.idf_), len(features))\n",
    "    for index, feature in enumerate(features):\n",
    "        if tfidf.idf_[index] <= threshold:\n",
    "            stopwords.append(feature)\n",
    "    return stopwords"
   ]
  },
  {
   "cell_type": "code",
   "execution_count": 233,
   "metadata": {},
   "outputs": [
    {
     "name": "stdout",
     "output_type": "stream",
     "text": [
      "1.8107271245353596 6.065285982427615 3205\n"
     ]
    }
   ],
   "source": [
    "stopwords = get_stopwords(df['content'], threshold=2.5)"
   ]
  },
  {
   "cell_type": "code",
   "execution_count": 234,
   "metadata": {},
   "outputs": [],
   "source": [
    "with open('manual_stopwords.txt', 'w', encoding='utf8') as fp:\n",
    "        for word in stopwords:\n",
    "            fp.write(word + '\\n')"
   ]
  },
  {
   "cell_type": "markdown",
   "metadata": {},
   "source": [
    "Continue here"
   ]
  },
  {
   "cell_type": "code",
   "execution_count": 40,
   "metadata": {},
   "outputs": [],
   "source": [
    "lines = open('stopwords.txt', newline=None, encoding='utf-8')\n",
    "lines.read()\n",
    "lines.seek(0)\n",
    "stopwords = lines.readlines()\n",
    "stopwords = list(map(lambda line: line.replace('\\n', ''), stopwords))"
   ]
  },
  {
   "cell_type": "code",
   "execution_count": 41,
   "metadata": {},
   "outputs": [
    {
     "data": {
      "text/plain": [
       "'\\ufeff'"
      ]
     },
     "execution_count": 41,
     "metadata": {},
     "output_type": "execute_result"
    }
   ],
   "source": [
    "stopwords.pop(0)\n",
    "# stopwords"
   ]
  },
  {
   "cell_type": "code",
   "execution_count": 42,
   "metadata": {},
   "outputs": [],
   "source": [
    "linesWithoutStopwords = list(map(lambda line: \" \".join(list(filter(lambda word: stopwords.count(word) == 0, line.split(\" \")))), removedOneWordLines))"
   ]
  },
  {
   "cell_type": "code",
   "execution_count": 43,
   "metadata": {},
   "outputs": [],
   "source": [
    "df['content'] = linesWithoutStopwords"
   ]
  },
  {
   "cell_type": "markdown",
   "metadata": {},
   "source": [
    "Split data to files"
   ]
  },
  {
   "cell_type": "code",
   "execution_count": 1498,
   "metadata": {},
   "outputs": [],
   "source": [
    "files = {}\n",
    "for label, content in zip(list(df['label']), list(df['content'])):\n",
    "  if files.get(label) == None:\n",
    "    files[label] = []\n",
    "  files[label].append(content)"
   ]
  },
  {
   "cell_type": "code",
   "execution_count": 1499,
   "metadata": {},
   "outputs": [],
   "source": [
    "for label in files.keys():\n",
    "  store_file(label + '.txt', files[label], len(files[label]) * [label])"
   ]
  },
  {
   "cell_type": "code",
   "execution_count": 1500,
   "metadata": {},
   "outputs": [],
   "source": [
    "X_train, X_test, y_train, y_test = [[], [], [], []]\n",
    "for label in files.keys():\n",
    "    if \"__label__tai_chinh, __label__kinh_doanh_va_cong_nghiep\".count(label):\n",
    "        x_tr, x_te, y_tr, y_te = train_test_split(files[label], len(files[label]) * [label], test_size=0.4, random_state=0)        \n",
    "    else:\n",
    "        x_tr, x_te, y_tr, y_te = train_test_split(files[label], len(files[label]) * [label], test_size=0.4, random_state=0)\n",
    "    X_train.extend(x_tr)\n",
    "    X_test.extend(x_te)\n",
    "    y_train.extend(y_tr)\n",
    "    y_test.extend(y_te)"
   ]
  },
  {
   "cell_type": "code",
   "execution_count": 1501,
   "metadata": {},
   "outputs": [],
   "source": [
    "store_file('created_train.txt', X_train, y_train)\n",
    "store_file('created_test.txt', X_test, y_test)"
   ]
  },
  {
   "cell_type": "markdown",
   "metadata": {},
   "source": [
    "Use sklearn k-fold cross validation technique"
   ]
  },
  {
   "cell_type": "code",
   "execution_count": 7,
   "metadata": {},
   "outputs": [],
   "source": [
    "from sklearn.model_selection import cross_val_score, train_test_split\n",
    "from sklearn.base import BaseEstimator\n",
    "from sklearn.metrics import f1_score"
   ]
  },
  {
   "cell_type": "code",
   "execution_count": 8,
   "metadata": {},
   "outputs": [],
   "source": [
    "X_train, X_test, y_train, y_test = train_test_split(df['content'], df['label'], test_size=0.4, random_state=0)"
   ]
  },
  {
   "cell_type": "code",
   "execution_count": 13,
   "metadata": {},
   "outputs": [],
   "source": [
    "store_file('created_train.txt', X_train.tolist(), y_train.tolist())\n",
    "store_file('created_test.txt', X_test.tolist(), y_test.tolist())\n",
    "# store_file('created_test.txt', X_test.tolist(), [\"\"] * len(y_test.tolist()))\n",
    "# store_file('created_test_label.txt', y_test.tolist(), [\"\"] * len(y_test.tolist()))"
   ]
  },
  {
   "cell_type": "code",
   "execution_count": 16,
   "metadata": {},
   "outputs": [
    {
     "data": {
      "text/html": [
       "<div>\n",
       "<style scoped>\n",
       "    .dataframe tbody tr th:only-of-type {\n",
       "        vertical-align: middle;\n",
       "    }\n",
       "\n",
       "    .dataframe tbody tr th {\n",
       "        vertical-align: top;\n",
       "    }\n",
       "\n",
       "    .dataframe thead th {\n",
       "        text-align: right;\n",
       "    }\n",
       "</style>\n",
       "<table border=\"1\" class=\"dataframe\">\n",
       "  <thead>\n",
       "    <tr style=\"text-align: right;\">\n",
       "      <th></th>\n",
       "      <th>label</th>\n",
       "      <th>content</th>\n",
       "    </tr>\n",
       "  </thead>\n",
       "  <tbody>\n",
       "    <tr>\n",
       "      <th>841</th>\n",
       "      <td>NaN</td>\n",
       "      <td>Mừng sinh nhật 5 tuổi, Sol Art tổ chức các hoạ...</td>\n",
       "    </tr>\n",
       "    <tr>\n",
       "      <th>8650</th>\n",
       "      <td>NaN</td>\n",
       "      <td>“BỐ EM LÀ NGƯỜI VĨ ĐẠI NHẤT!” . Bài văn tả mẹ ...</td>\n",
       "    </tr>\n",
       "    <tr>\n",
       "      <th>3701</th>\n",
       "      <td>NaN</td>\n",
       "      <td>Xin phép ad cho mình đăng tuyển dụng nhé. Công...</td>\n",
       "    </tr>\n",
       "    <tr>\n",
       "      <th>13270</th>\n",
       "      <td>NaN</td>\n",
       "      <td>Còn có cái phòng T1 gần 40m2 khép kín khu wc r...</td>\n",
       "    </tr>\n",
       "    <tr>\n",
       "      <th>12349</th>\n",
       "      <td>NaN</td>\n",
       "      <td>Chợ Nhà Đất Hà Nội ( Mua, Bán, Thuê, Cho Thuê ...</td>\n",
       "    </tr>\n",
       "    <tr>\n",
       "      <th>...</th>\n",
       "      <td>...</td>\n",
       "      <td>...</td>\n",
       "    </tr>\n",
       "    <tr>\n",
       "      <th>11278</th>\n",
       "      <td>NaN</td>\n",
       "      <td>Kim chi dưa chuột chua cay hấp dẫn không ngờ  ...</td>\n",
       "    </tr>\n",
       "    <tr>\n",
       "      <th>8413</th>\n",
       "      <td>NaN</td>\n",
       "      <td>[CAFÉ CEO] MỘT KHI ĐÃ BƯỚC CHÂN VÀO CÔNG TY: T...</td>\n",
       "    </tr>\n",
       "    <tr>\n",
       "      <th>4170</th>\n",
       "      <td>NaN</td>\n",
       "      <td>Chính chủ cho Thuê phòng tại Phố Trung văn, nh...</td>\n",
       "    </tr>\n",
       "    <tr>\n",
       "      <th>9952</th>\n",
       "      <td>NaN</td>\n",
       "      <td>Dear các bạn.  Dạo gần đây An Phát nhận được 1...</td>\n",
       "    </tr>\n",
       "    <tr>\n",
       "      <th>1398</th>\n",
       "      <td>NaN</td>\n",
       "      <td>[CẨM NANG DU LỊCH] [ĐIỂM ĐẾN TRONG NƯỚC]  👀 XÁ...</td>\n",
       "    </tr>\n",
       "  </tbody>\n",
       "</table>\n",
       "<p>6400 rows × 2 columns</p>\n",
       "</div>"
      ],
      "text/plain": [
       "      label                                            content\n",
       "841     NaN  Mừng sinh nhật 5 tuổi, Sol Art tổ chức các hoạ...\n",
       "8650    NaN  “BỐ EM LÀ NGƯỜI VĨ ĐẠI NHẤT!” . Bài văn tả mẹ ...\n",
       "3701    NaN  Xin phép ad cho mình đăng tuyển dụng nhé. Công...\n",
       "13270   NaN  Còn có cái phòng T1 gần 40m2 khép kín khu wc r...\n",
       "12349   NaN  Chợ Nhà Đất Hà Nội ( Mua, Bán, Thuê, Cho Thuê ...\n",
       "...     ...                                                ...\n",
       "11278   NaN  Kim chi dưa chuột chua cay hấp dẫn không ngờ  ...\n",
       "8413    NaN  [CAFÉ CEO] MỘT KHI ĐÃ BƯỚC CHÂN VÀO CÔNG TY: T...\n",
       "4170    NaN  Chính chủ cho Thuê phòng tại Phố Trung văn, nh...\n",
       "9952    NaN  Dear các bạn.  Dạo gần đây An Phát nhận được 1...\n",
       "1398    NaN  [CẨM NANG DU LỊCH] [ĐIỂM ĐẾN TRONG NƯỚC]  👀 XÁ...\n",
       "\n",
       "[6400 rows x 2 columns]"
      ]
     },
     "execution_count": 16,
     "metadata": {},
     "output_type": "execute_result"
    }
   ],
   "source": [
    "pd.DataFrame(X_test, columns=['label', 'content'])"
   ]
  },
  {
   "cell_type": "markdown",
   "metadata": {},
   "source": [
    "Estimator for fasttext"
   ]
  },
  {
   "cell_type": "code",
   "execution_count": 224,
   "metadata": {},
   "outputs": [],
   "source": [
    "class FasttextEstimator(BaseEstimator):\n",
    "\n",
    "    def __init__(self, model_dir):\n",
    "        self.model_dir = model_dir\n",
    "        self.model = None\n",
    "\n",
    "    def fit(self, features, labels):\n",
    "        \"\"\"\n",
    "        Train fasttext on the given features and labels.\n",
    "        :param features: a list of documents.\n",
    "        :param labels: the list of labels associated with the list of features.\n",
    "        \"\"\"\n",
    "        store_file(os.path.join(self.model_dir, \"train.txt\"), features, labels)\n",
    "        fasttext.train_supervised(input=os.path.join(self.model_dir, \"train.txt\"),\n",
    "                                  epoch=6, lr=1.0, wordNgrams=2, verbose=1, minCount=1, loss='hs', thread=4).save_model('cv_model.bin')\n",
    "        self.model = fasttext.load_model(os.path.join(self.model_dir, \"cv_model.bin\"))\n",
    "        return self\n",
    "\n",
    "    def score(self, features, labels):\n",
    "        \"\"\"\n",
    "        Compute the macro-f1 score for the predictions on the given features.\n",
    "        :param features: a list of documents.\n",
    "        :param labels: the list of labels associated with the list of features.\n",
    "        :return: f1_score: the macro-f1 score for the predictions on the given features.\n",
    "        \"\"\"\n",
    "        predicted_labels = []\n",
    "        for feature in features:\n",
    "            prediction = self.model.predict(feature)\n",
    "            predicted_label = prediction[0]\n",
    "            predicted_labels.append(predicted_label)\n",
    "        return f1_score(labels, predicted_labels, average=\"macro\")"
   ]
  },
  {
   "cell_type": "code",
   "execution_count": 55,
   "metadata": {},
   "outputs": [],
   "source": [
    "def store_file(output_file, features, labels):\n",
    "    \"\"\"Write the training data in fasttext format to disk.\n",
    "    :param output_file: the name of the output file.\n",
    "    :param features: the features, a list of strings.\n",
    "    :param labels: the labels associated with features.\n",
    "    \"\"\"\n",
    "    with open(output_file, 'w', newline='\\n', encoding='utf-8') as f:\n",
    "        for i in range(0, len(features)):\n",
    "            if labels[i] == '':\n",
    "                f.write(\"%s\\n\" % (features[i]))\n",
    "            else:\n",
    "                f.write(\"%s %s\\n\" % (labels[i], features[i]))                "
   ]
  },
  {
   "cell_type": "markdown",
   "metadata": {},
   "source": [
    "Fasttext library"
   ]
  },
  {
   "cell_type": "code",
   "execution_count": 55,
   "metadata": {},
   "outputs": [],
   "source": [
    "# model = fasttext.train_supervised(input='created_train.txt', autotuneValidationFile='created_test.valid')\n",
    "# model.save_model('cv_model.bin')"
   ]
  },
  {
   "cell_type": "code",
   "execution_count": 67,
   "metadata": {},
   "outputs": [
    {
     "name": "stderr",
     "output_type": "stream",
     "text": [
      "\n"
     ]
    }
   ],
   "source": [
    "model = fasttext.load_model(\"fasttext.bin\")\n",
    "# model.test('created_test.txt')"
   ]
  },
  {
   "cell_type": "code",
   "execution_count": 68,
   "metadata": {},
   "outputs": [
    {
     "data": {
      "text/plain": [
       "['__label__Nha_dat',\n",
       " '__label__Kinh_doanh_va_Cong_nghiep',\n",
       " '__label__Do_an_va_do_uong',\n",
       " '__label__Tai_chinh',\n",
       " '__label__Mua_sam',\n",
       " '__label__Du_lich',\n",
       " '__label__Chinh_tri',\n",
       " '__label__Giao_duc',\n",
       " '__label__Nghe_thuat',\n",
       " '__label__Mang_internet_va_vien_thong',\n",
       " '__label__Sach',\n",
       " '__label__Con_nguoi_va_xa_hoi',\n",
       " '__label__Lam_dep_va_the_hinh',\n",
       " '__label__Nha_va_vuon',\n",
       " '__label__Giai_tri',\n",
       " '__label__May_tinh_va_thiet_bi_dien_tu',\n",
       " '__label__Suc_khoe_va_benh_tat',\n",
       " '__label__Thoi_quen_va_so_thich',\n",
       " '__label__Khoa_hoc',\n",
       " '__label__Phap_luat',\n",
       " '__label__Giao_thong',\n",
       " '__label__The_thao',\n",
       " '__label__Cong_nghe_moi']"
      ]
     },
     "execution_count": 68,
     "metadata": {},
     "output_type": "execute_result"
    }
   ],
   "source": [
    "model.labels"
   ]
  },
  {
   "cell_type": "code",
   "execution_count": 52,
   "metadata": {},
   "outputs": [],
   "source": [
    "predictions = []\n",
    "for content in df['content'].tolist():\n",
    "    predictions.append(model.predict(content)[0][0])"
   ]
  },
  {
   "cell_type": "code",
   "execution_count": 56,
   "metadata": {},
   "outputs": [],
   "source": [
    "store_file('predictions_fasttext.txt', predictions, [\"\"] * len(predictions))"
   ]
  },
  {
   "cell_type": "code",
   "execution_count": 26,
   "metadata": {
    "scrolled": true
   },
   "outputs": [
    {
     "name": "stderr",
     "output_type": "stream",
     "text": [
      "\n",
      "\n",
      "\n",
      "\n",
      "C:\\Users\\Dung\\Anaconda3\\lib\\site-packages\\sklearn\\metrics\\classification.py:1135: UndefinedMetricWarning: F-score is ill-defined and being set to 0.0 in labels with no predicted samples.\n",
      "  'precision', 'predicted', average, warn_for)\n",
      "\n",
      "C:\\Users\\Dung\\Anaconda3\\lib\\site-packages\\sklearn\\metrics\\classification.py:1135: UndefinedMetricWarning: F-score is ill-defined and being set to 0.0 in labels with no predicted samples.\n",
      "  'precision', 'predicted', average, warn_for)\n"
     ]
    },
    {
     "data": {
      "text/plain": [
       "array([0.83949904, 0.8426808 , 0.83133947, 0.82731172, 0.82239846])"
      ]
     },
     "execution_count": 26,
     "metadata": {},
     "output_type": "execute_result"
    }
   ],
   "source": [
    "# model.('mùa thứ nhất')\n",
    "estimator = FasttextEstimator(model_dir='C:/Users/Dung/Desktop/python/My python note/')\n",
    "cross_val_score(estimator, df['content'].tolist(), df['label'].tolist(), cv=5)"
   ]
  },
  {
   "cell_type": "code",
   "execution_count": 1,
   "metadata": {},
   "outputs": [],
   "source": [
    "# model = fasttext.load_model(\"cv_model.bin\")\n",
    "# model.get_words()"
   ]
  },
  {
   "cell_type": "markdown",
   "metadata": {},
   "source": [
    "Transform word to vectors"
   ]
  },
  {
   "cell_type": "markdown",
   "metadata": {},
   "source": [
    "Use a vectorizer"
   ]
  },
  {
   "cell_type": "code",
   "execution_count": 20,
   "metadata": {},
   "outputs": [
    {
     "data": {
      "text/plain": [
       "TfidfVectorizer(analyzer='word', binary=False, decode_error='strict',\n",
       "                dtype=<class 'numpy.float64'>, encoding='utf-8',\n",
       "                input='content', lowercase=True, max_df=1.0, max_features=5000,\n",
       "                min_df=1, ngram_range=(1, 2), norm='l2', preprocessor=None,\n",
       "                smooth_idf=True, stop_words=None, strip_accents=None,\n",
       "                sublinear_tf=True, token_pattern='(?u)\\\\b\\\\w\\\\w+\\\\b',\n",
       "                tokenizer=None, use_idf=True, vocabulary=None)"
      ]
     },
     "execution_count": 20,
     "metadata": {},
     "output_type": "execute_result"
    }
   ],
   "source": [
    "Tfidf_vect = TfidfVectorizer(max_features=5000, ngram_range=(1,2), sublinear_tf=True)\n",
    "Tfidf_vect.fit(X_train)"
   ]
  },
  {
   "cell_type": "code",
   "execution_count": 21,
   "metadata": {},
   "outputs": [],
   "source": [
    "Train_X_Tfidf = Tfidf_vect.transform(X_train)\n",
    "Test_X_Tfidf = Tfidf_vect.transform(X_test)"
   ]
  },
  {
   "cell_type": "code",
   "execution_count": 180,
   "metadata": {},
   "outputs": [],
   "source": [
    "# print(Train_X_Tfidf)"
   ]
  },
  {
   "cell_type": "markdown",
   "metadata": {},
   "source": [
    "SVM"
   ]
  },
  {
   "cell_type": "code",
   "execution_count": 25,
   "metadata": {},
   "outputs": [],
   "source": [
    "from sklearn import svm\n",
    "from sklearn.model_selection import GridSearchCV\n",
    "from sklearn.metrics import classification_report, confusion_matrix\n",
    "from sklearn.metrics import accuracy_score, precision_recall_fscore_support"
   ]
  },
  {
   "cell_type": "code",
   "execution_count": 183,
   "metadata": {},
   "outputs": [],
   "source": [
    "# param_grid = {'C':[1,10,100,1000],'gamma':[1,0.1,0.001,0.0001], 'kernel':['linear','rbf']}\n",
    "# grid = GridSearchCV(svm.SVC(),param_grid,refit = True, verbose=2, cv=4)\n",
    "# grid.fit(Train_X_Tfidf,y_train)\n",
    "# grid.best_params_"
   ]
  },
  {
   "cell_type": "markdown",
   "metadata": {},
   "source": [
    "Use svm after gridsearchCV"
   ]
  },
  {
   "cell_type": "code",
   "execution_count": 381,
   "metadata": {},
   "outputs": [],
   "source": [
    "# predictions_SVM = grid.predict(Test_X_Tfidf)"
   ]
  },
  {
   "cell_type": "markdown",
   "metadata": {},
   "source": [
    "Use svm manually"
   ]
  },
  {
   "cell_type": "code",
   "execution_count": 26,
   "metadata": {},
   "outputs": [
    {
     "data": {
      "text/plain": [
       "SVC(C=1, cache_size=200, class_weight=None, coef0=0.0,\n",
       "    decision_function_shape='ovr', degree=3, gamma=1, kernel='linear',\n",
       "    max_iter=-1, probability=False, random_state=None, shrinking=True,\n",
       "    tol=0.001, verbose=False)"
      ]
     },
     "execution_count": 26,
     "metadata": {},
     "output_type": "execute_result"
    }
   ],
   "source": [
    "SVM = svm.SVC(C=1, gamma=1, kernel='linear')\n",
    "SVM.fit(Train_X_Tfidf, y_train)"
   ]
  },
  {
   "cell_type": "code",
   "execution_count": 27,
   "metadata": {},
   "outputs": [],
   "source": [
    "predictions_SVM = SVM.predict(Test_X_Tfidf)"
   ]
  },
  {
   "cell_type": "code",
   "execution_count": 28,
   "metadata": {},
   "outputs": [
    {
     "name": "stdout",
     "output_type": "stream",
     "text": [
      "                                       precision    recall  f1-score   support\n",
      "\n",
      "                   __label__chinh_tri       0.97      0.98      0.97       341\n",
      "         __label__con_nguoi_va_xa_hoi       0.95      0.99      0.97       161\n",
      "               __label__cong_nghe_moi       1.00      0.62      0.76        13\n",
      "            __label__do_an_va_do_uong       0.99      0.99      0.99       948\n",
      "                     __label__du_lich       0.99      0.97      0.98       366\n",
      "                    __label__giai_tri       0.97      1.00      0.99        74\n",
      "                    __label__giao_duc       0.95      0.94      0.94       269\n",
      "                  __label__giao_thong       1.00      1.00      1.00        37\n",
      "                    __label__khoa_hoc       0.98      0.89      0.94        65\n",
      "   __label__kinh_doanh_va_cong_nghiep       0.61      0.73      0.66       950\n",
      "         __label__lam_dep_va_the_hinh       0.99      0.92      0.95       125\n",
      " __label__mang_internet_va_vien_thong       0.99      0.99      0.99       233\n",
      "__label__may_tinh_va_thiet_bi_dien_tu       1.00      0.93      0.96        88\n",
      "                     __label__mua_sam       0.94      0.97      0.95       466\n",
      "                  __label__nghe_thuat       1.00      1.00      1.00       245\n",
      "                     __label__nha_dat       0.98      0.99      0.98      1027\n",
      "                 __label__nha_va_vuon       1.00      0.95      0.98       103\n",
      "                   __label__phap_luat       0.86      0.86      0.86        37\n",
      "                        __label__sach       0.99      0.95      0.97       155\n",
      "        __label__suc_khoe_va_benh_tat       0.87      0.82      0.85        73\n",
      "                   __label__tai_chinh       0.35      0.22      0.27       522\n",
      "                    __label__the_thao       1.00      0.85      0.92        33\n",
      "       __label__thoi_quen_va_so_thich       1.00      0.93      0.96        69\n",
      "\n",
      "                             accuracy                           0.88      6400\n",
      "                            macro avg       0.93      0.89      0.91      6400\n",
      "                         weighted avg       0.87      0.88      0.87      6400\n",
      "\n"
     ]
    }
   ],
   "source": [
    "print(classification_report(y_test,predictions_SVM))"
   ]
  },
  {
   "cell_type": "code",
   "execution_count": 85,
   "metadata": {
    "scrolled": true
   },
   "outputs": [],
   "source": [
    "matrix = confusion_matrix(y_test, predictions_SVM)"
   ]
  },
  {
   "cell_type": "code",
   "execution_count": 173,
   "metadata": {},
   "outputs": [],
   "source": [
    "# list(enumerate(maxtrix[20].tolist())) # tai chinh bị đoán nhầm thành kinh doanh và công nghiệp"
   ]
  },
  {
   "cell_type": "code",
   "execution_count": 174,
   "metadata": {},
   "outputs": [],
   "source": [
    "# list(enumerate(maxtrix[9].tolist()))"
   ]
  },
  {
   "cell_type": "code",
   "execution_count": 175,
   "metadata": {},
   "outputs": [],
   "source": [
    "# list(enumerate(maxtrix[2].tolist()))"
   ]
  },
  {
   "cell_type": "markdown",
   "metadata": {},
   "source": [
    "Trial"
   ]
  },
  {
   "cell_type": "code",
   "execution_count": 29,
   "metadata": {},
   "outputs": [],
   "source": [
    "outlier_y_train = []\n",
    "outlier_x_train = []\n",
    "outlier_y_test = []\n",
    "outlier_x_test = []\n",
    "\n",
    "outliers = \", \".join(['__label__tai_chinh', '__label__kinh_doanh_va_cong_nghiep'])\n",
    "\n",
    "for label, content in zip(y_train, X_train):\n",
    "    if outliers.count(label) == 1:\n",
    "        outlier_y_train.append(label)\n",
    "        outlier_x_train.append(content)\n",
    "for label, content in zip(y_test, X_test):\n",
    "    if outliers.count(label) == 1:\n",
    "        outlier_y_test.append(label)\n",
    "        outlier_x_test.append(content)\n",
    "temp_y_train = ['__label__outlier' if outliers.count(label) else label\n",
    "               for label in y_train]\n",
    "temp_y_test = ['__label__outlier' if outliers.count(label) else label\n",
    "               for label in y_test]\n",
    "store_file('outlier_train.txt', outlier_x_train, outlier_y_train)\n",
    "store_file('outlier_test.txt', outlier_x_test, outlier_y_test)\n",
    "store_file('train_temp.txt', X_train.tolist(), temp_y_train)\n",
    "store_file('test_temp.txt', X_test.tolist(), temp_y_test)"
   ]
  },
  {
   "cell_type": "code",
   "execution_count": 30,
   "metadata": {},
   "outputs": [],
   "source": [
    "Train_X_Tfidf = Tfidf_vect.transform(X_train)\n",
    "Test_X_Tfidf = Tfidf_vect.transform(X_test)"
   ]
  },
  {
   "cell_type": "code",
   "execution_count": 31,
   "metadata": {},
   "outputs": [
    {
     "data": {
      "text/plain": [
       "SVC(C=1, cache_size=200, class_weight=None, coef0=0.0,\n",
       "    decision_function_shape='ovr', degree=3, gamma=1, kernel='linear',\n",
       "    max_iter=-1, probability=False, random_state=None, shrinking=True,\n",
       "    tol=0.001, verbose=False)"
      ]
     },
     "execution_count": 31,
     "metadata": {},
     "output_type": "execute_result"
    }
   ],
   "source": [
    "SVM = svm.SVC(C=1, gamma=1, kernel='linear')\n",
    "SVM.fit(Train_X_Tfidf, temp_y_train)"
   ]
  },
  {
   "cell_type": "code",
   "execution_count": 32,
   "metadata": {},
   "outputs": [
    {
     "name": "stdout",
     "output_type": "stream",
     "text": [
      "                                       precision    recall  f1-score   support\n",
      "\n",
      "                   __label__chinh_tri       0.97      0.98      0.97       341\n",
      "         __label__con_nguoi_va_xa_hoi       0.95      0.99      0.97       161\n",
      "               __label__cong_nghe_moi       1.00      0.62      0.76        13\n",
      "            __label__do_an_va_do_uong       0.99      0.99      0.99       948\n",
      "                     __label__du_lich       0.99      0.97      0.98       366\n",
      "                    __label__giai_tri       0.97      1.00      0.99        74\n",
      "                    __label__giao_duc       0.95      0.94      0.95       269\n",
      "                  __label__giao_thong       1.00      0.97      0.99        37\n",
      "                    __label__khoa_hoc       0.98      0.88      0.93        65\n",
      "         __label__lam_dep_va_the_hinh       0.99      0.92      0.95       125\n",
      " __label__mang_internet_va_vien_thong       1.00      0.98      0.99       233\n",
      "__label__may_tinh_va_thiet_bi_dien_tu       1.00      0.93      0.96        88\n",
      "                     __label__mua_sam       0.94      0.97      0.95       466\n",
      "                  __label__nghe_thuat       1.00      1.00      1.00       245\n",
      "                     __label__nha_dat       0.98      0.99      0.98      1027\n",
      "                 __label__nha_va_vuon       1.00      0.95      0.98       103\n",
      "                     __label__outlier       0.96      0.97      0.97      1472\n",
      "                   __label__phap_luat       0.87      0.89      0.88        37\n",
      "                        __label__sach       0.99      0.95      0.97       155\n",
      "        __label__suc_khoe_va_benh_tat       0.87      0.82      0.85        73\n",
      "                    __label__the_thao       1.00      0.85      0.92        33\n",
      "       __label__thoi_quen_va_so_thich       1.00      0.93      0.96        69\n",
      "\n",
      "                             accuracy                           0.97      6400\n",
      "                            macro avg       0.97      0.93      0.95      6400\n",
      "                         weighted avg       0.97      0.97      0.97      6400\n",
      "\n"
     ]
    }
   ],
   "source": [
    "predictions_SVM = SVM.predict(Test_X_Tfidf)\n",
    "print(classification_report(temp_y_test,predictions_SVM))"
   ]
  },
  {
   "cell_type": "markdown",
   "metadata": {},
   "source": [
    "Outlier"
   ]
  },
  {
   "cell_type": "code",
   "execution_count": 146,
   "metadata": {},
   "outputs": [
    {
     "data": {
      "text/plain": [
       "TfidfVectorizer(analyzer='word', binary=False, decode_error='strict',\n",
       "                dtype=<class 'numpy.float64'>, encoding='utf-8',\n",
       "                input='content', lowercase=True, max_df=0.5, max_features=1000,\n",
       "                min_df=1, ngram_range=(1, 2), norm='l2', preprocessor=None,\n",
       "                smooth_idf=True, stop_words=None, strip_accents=None,\n",
       "                sublinear_tf=True, token_pattern='(?u)\\\\b\\\\w\\\\w+\\\\b',\n",
       "                tokenizer=None, use_idf=True, vocabulary=None)"
      ]
     },
     "execution_count": 146,
     "metadata": {},
     "output_type": "execute_result"
    }
   ],
   "source": [
    "Tfidf_vect_outlier = TfidfVectorizer(max_features=1000, ngram_range=(1,2), max_df=0.5, sublinear_tf=True)\n",
    "Tfidf_vect_outlier.fit(outlier_x_train)"
   ]
  },
  {
   "cell_type": "code",
   "execution_count": 147,
   "metadata": {},
   "outputs": [],
   "source": [
    "outlier_true_x_test = []\n",
    "outlier_true_y_test = []\n",
    "x_list = X_test.tolist()\n",
    "y_list = y_test.tolist()\n",
    "# for content in X_test.tolist():\n",
    "#     if outlier_x_test.count(content) == 1:\n",
    "#         index = outlier_x_test.index(content)\n",
    "#         outlier_true_x_test.append(outlier_x_test[index])\n",
    "#         outlier_true_y_test.append(outlier_y_test[index])\n",
    "for index, label in enumerate(predictions_SVM):\n",
    "    if label == '__label__outlier':\n",
    "        outlier_true_x_test.append(x_list[index])\n",
    "        outlier_true_y_test.append(y_list[index])   \n",
    "store_file('outlier_true_test.txt', outlier_true_x_test, outlier_true_y_test)"
   ]
  },
  {
   "cell_type": "code",
   "execution_count": 148,
   "metadata": {},
   "outputs": [],
   "source": [
    "Train_X_outlier_Tfidf = Tfidf_vect_outlier.transform(outlier_x_train)\n",
    "Test_X_outlier_Tfidf = Tfidf_vect_outlier.transform(outlier_true_x_test)"
   ]
  },
  {
   "cell_type": "code",
   "execution_count": 149,
   "metadata": {},
   "outputs": [],
   "source": [
    "# param_grid = {'C':range(1, 100, 5),'gamma':numpy.arange(0.5, 10, 0.5)}\n",
    "# grid = GridSearchCV(svm.SVC(kernel='sigmoid'),param_grid,refit = True, verbose=2, cv=2)\n",
    "# grid.fit(Train_X_Tfidf,y_train)\n",
    "# grid.best_params_"
   ]
  },
  {
   "cell_type": "code",
   "execution_count": 150,
   "metadata": {},
   "outputs": [
    {
     "data": {
      "text/plain": [
       "SVC(C=1, cache_size=200, class_weight=None, coef0=0.0,\n",
       "    decision_function_shape='ovr', degree=3, gamma=1.8, kernel='sigmoid',\n",
       "    max_iter=-1, probability=False, random_state=None, shrinking=True,\n",
       "    tol=0.001, verbose=False)"
      ]
     },
     "execution_count": 150,
     "metadata": {},
     "output_type": "execute_result"
    }
   ],
   "source": [
    "# SVM_outlier = svm.SVC(C=1, gamma=1.8, kernel='sigmoid') # 0.4 test \n",
    "# class_weight = {'__label__cong_nghe_moi': 0.4, '__label__tai_chinh': 0.5, '__label__kinh_doanh_va_cong_nghiep':0.3} # 0.2 test\n",
    "# class_weight = {'__label__tai_chinh': 0.5, '__label__kinh_doanh_va_cong_nghiep':0.35} # 0.2 test\n",
    "# SVM_outlier = svm.SVC(C=4, gamma=2, kernel='sigmoid', class_weight=class_weight) 0.2 test\n",
    "SVM_outlier = svm.SVC(C=1, gamma=1.8, kernel='sigmoid')\n",
    "SVM_outlier.fit(Train_X_outlier_Tfidf, outlier_y_train)"
   ]
  },
  {
   "cell_type": "code",
   "execution_count": 151,
   "metadata": {},
   "outputs": [
    {
     "name": "stdout",
     "output_type": "stream",
     "text": [
      "                                       precision    recall  f1-score   support\n",
      "\n",
      "                   __label__chinh_tri       0.00      0.00      0.00         4\n",
      "         __label__con_nguoi_va_xa_hoi       0.00      0.00      0.00         1\n",
      "               __label__cong_nghe_moi       0.00      0.00      0.00         5\n",
      "                     __label__du_lich       0.00      0.00      0.00         4\n",
      "                    __label__giao_duc       0.00      0.00      0.00         6\n",
      "                  __label__giao_thong       0.00      0.00      0.00         1\n",
      "                    __label__khoa_hoc       0.00      0.00      0.00         4\n",
      "   __label__kinh_doanh_va_cong_nghiep       0.65      0.79      0.71       916\n",
      "         __label__lam_dep_va_the_hinh       0.00      0.00      0.00         3\n",
      " __label__mang_internet_va_vien_thong       0.00      0.00      0.00         3\n",
      "__label__may_tinh_va_thiet_bi_dien_tu       0.00      0.00      0.00         5\n",
      "                     __label__mua_sam       0.00      0.00      0.00         7\n",
      "                     __label__nha_dat       0.00      0.00      0.00         5\n",
      "                 __label__nha_va_vuon       0.00      0.00      0.00         3\n",
      "                   __label__phap_luat       0.00      0.00      0.00         3\n",
      "                        __label__sach       0.00      0.00      0.00         2\n",
      "                   __label__tai_chinh       0.47      0.34      0.40       516\n",
      "                    __label__the_thao       0.00      0.00      0.00         1\n",
      "       __label__thoi_quen_va_so_thich       0.00      0.00      0.00         1\n",
      "\n",
      "                             accuracy                           0.61      1490\n",
      "                            macro avg       0.06      0.06      0.06      1490\n",
      "                         weighted avg       0.56      0.61      0.58      1490\n",
      "\n"
     ]
    },
    {
     "name": "stderr",
     "output_type": "stream",
     "text": [
      "C:\\Users\\Dung\\Anaconda3\\lib\\site-packages\\sklearn\\metrics\\classification.py:1437: UndefinedMetricWarning: Precision and F-score are ill-defined and being set to 0.0 in labels with no predicted samples.\n",
      "  'precision', 'predicted', average, warn_for)\n"
     ]
    }
   ],
   "source": [
    "predictions_SVM_outlier = SVM_outlier.predict(Test_X_outlier_Tfidf)\n",
    "print(classification_report(outlier_true_y_test,predictions_SVM_outlier))"
   ]
  },
  {
   "cell_type": "code",
   "execution_count": 197,
   "metadata": {},
   "outputs": [
    {
     "data": {
      "text/plain": [
       "{'ngắn': 453,\n",
       " 'kiến': 316,\n",
       " 'khai': 286,\n",
       " 'vận': 863,\n",
       " 'hội': 276,\n",
       " 'một': 419,\n",
       " 'chủ': 84,\n",
       " 'cửa': 147,\n",
       " 'điện': 915,\n",
       " 'máy': 399,\n",
       " 'đăng': 933,\n",
       " 'quảng': 551,\n",
       " 'cáo': 108,\n",
       " 'truyền': 726,\n",
       " 'hình': 245,\n",
       " 'lệ': 375,\n",
       " 'dân': 161,\n",
       " 'động': 979,\n",
       " 'viên': 843,\n",
       " 'tây': 779,\n",
       " 'ban': 3,\n",
       " 'kỳ': 337,\n",
       " 'đại': 942,\n",
       " 'huy': 235,\n",
       " 'chương': 71,\n",
       " 'vàng': 853,\n",
       " 'bất': 30,\n",
       " 'mua': 396,\n",
       " 'hiệu': 222,\n",
       " 'tiền': 695,\n",
       " 'tiêu': 684,\n",
       " 'thụ': 670,\n",
       " 'đoàn': 918,\n",
       " 'bạc': 23,\n",
       " 'toán': 706,\n",
       " 'chi': 45,\n",
       " 'đông': 932,\n",
       " 'nhiên': 455,\n",
       " 'chẳng': 78,\n",
       " 'lỗ': 377,\n",
       " 'chắn': 77,\n",
       " 'phá': 494,\n",
       " 'sản': 586,\n",
       " 'lo': 355,\n",
       " 'thừa': 675,\n",
       " 'xu': 878,\n",
       " 'tất': 800,\n",
       " 'bảo': 27,\n",
       " 'hiểm': 219,\n",
       " 'rủi': 562,\n",
       " 'ro': 557,\n",
       " 'ký': 331,\n",
       " 'hợp': 277,\n",
       " 'đồng': 972,\n",
       " 'chuyên': 55,\n",
       " 'gia': 181,\n",
       " 'phân': 503,\n",
       " 'tích': 783,\n",
       " 'thể': 660,\n",
       " 'sai': 565,\n",
       " 'tình': 780,\n",
       " 'vui': 851,\n",
       " 'triệu': 720,\n",
       " 'tầm': 801,\n",
       " 'cửa hàng': 148,\n",
       " 'quảng cáo': 552,\n",
       " 'truyền hình': 727,\n",
       " 'mua hàng': 397,\n",
       " 'bảo hiểm': 28,\n",
       " 'rủi ro': 563,\n",
       " 'hợp đồng': 280,\n",
       " 'chuyên gia': 56,\n",
       " 'phân tích': 505,\n",
       " 'nghiệm': 431,\n",
       " 'sếp': 593,\n",
       " 'nhân': 461,\n",
       " 'hành': 242,\n",
       " 'giám': 193,\n",
       " 'đốc': 967,\n",
       " 'đi': 914,\n",
       " 'trưa': 739,\n",
       " 'vị': 866,\n",
       " 'thần': 658,\n",
       " 'bay': 6,\n",
       " 'ước': 990,\n",
       " 'hai': 217,\n",
       " 'tranh': 714,\n",
       " 'ta': 605,\n",
       " 'quyền': 543,\n",
       " 'đầu': 950,\n",
       " 'tiên': 683,\n",
       " 'du': 158,\n",
       " 'lịch': 376,\n",
       " 'lập': 372,\n",
       " 'tức': 830,\n",
       " 'biến': 12,\n",
       " 'nghỉ': 439,\n",
       " 'giải': 198,\n",
       " 'quyết': 540,\n",
       " 'giấy': 202,\n",
       " 'tờ': 827,\n",
       " 'chất': 75,\n",
       " 'quan': 531,\n",
       " 'thành': 635,\n",
       " 'học': 266,\n",
       " 'chóng': 69,\n",
       " 'thời': 667,\n",
       " 'góp': 210,\n",
       " 'thuyết': 624,\n",
       " 'phục': 528,\n",
       " 'kinh nghiệm': 313,\n",
       " 'nhân viên': 462,\n",
       " 'hành chính': 243,\n",
       " 'giám đốc': 194,\n",
       " 'đầu tiên': 951,\n",
       " 'du lịch': 159,\n",
       " 'giải quyết': 200,\n",
       " 'kế': 333,\n",
       " 'an': 0,\n",
       " 'phát': 497,\n",
       " 'giá': 190,\n",
       " 'khóa': 299,\n",
       " 'phí': 508,\n",
       " 'vnđ': 849,\n",
       " 'cam': 41,\n",
       " 'kết': 336,\n",
       " 'hoàn': 226,\n",
       " 'toàn': 704,\n",
       " 'chứng': 91,\n",
       " 'thực': 677,\n",
       " 'tế': 808,\n",
       " 'đảm': 947,\n",
       " 'thạo': 654,\n",
       " 'thúc': 648,\n",
       " 'phương': 515,\n",
       " 'pháp': 495,\n",
       " 'kèm': 325,\n",
       " 'bắt': 33,\n",
       " 'gian': 186,\n",
       " 'áp': 907,\n",
       " 'dụng': 172,\n",
       " 'đào': 920,\n",
       " 'dịch': 169,\n",
       " 'vụ': 870,\n",
       " 'địa': 962,\n",
       " 'tầng': 802,\n",
       " 'phòng': 509,\n",
       " 'tòa': 786,\n",
       " 'cầu': 130,\n",
       " 'hà': 238,\n",
       " 'nội': 482,\n",
       " 'đối': 969,\n",
       " 'diện': 153,\n",
       " 'hotline': 225,\n",
       " 'diễn': 152,\n",
       " 'chia': 48,\n",
       " 'sẻ': 592,\n",
       " 'website': 875,\n",
       " 'kế toán': 335,\n",
       " 'khóa học': 300,\n",
       " 'hoàn toàn': 228,\n",
       " 'thực tế': 681,\n",
       " 'đảm bảo': 948,\n",
       " 'thực hành': 679,\n",
       " 'thành thạo': 639,\n",
       " 'phương pháp': 516,\n",
       " 'thời gian': 668,\n",
       " 'áp dụng': 908,\n",
       " 'dịch vụ': 170,\n",
       " 'vụ kế': 871,\n",
       " 'hà nội': 239,\n",
       " 'chia sẻ': 49,\n",
       " 'trí': 735,\n",
       " 'tư': 788,\n",
       " 'vấn': 861,\n",
       " 'kênh': 329,\n",
       " 'tác': 775,\n",
       " 'đơn': 936,\n",
       " 'tuyển': 765,\n",
       " 'cty': 100,\n",
       " 'việt': 846,\n",
       " 'nam': 426,\n",
       " 'lương': 369,\n",
       " 'tr': 711,\n",
       " 'hoa': 224,\n",
       " 'hồng': 272,\n",
       " 'hưởng': 256,\n",
       " 'yêu': 902,\n",
       " 'đẳng': 954,\n",
       " 'ưu': 987,\n",
       " 'ngành': 447,\n",
       " 'tài': 771,\n",
       " 'ngân': 448,\n",
       " 'lợi': 381,\n",
       " 'ứng': 997,\n",
       " 'tương': 791,\n",
       " 'thức': 674,\n",
       " 'kỹ': 339,\n",
       " 'năng': 474,\n",
       " 'giao': 187,\n",
       " 'tiếp': 687,\n",
       " 'xếp': 898,\n",
       " 'cận': 131,\n",
       " 'mô': 402,\n",
       " 'tả': 797,\n",
       " 'cv': 103,\n",
       " 'xây': 889,\n",
       " 'dựng': 176,\n",
       " 'hệ': 264,\n",
       " 'nhu': 458,\n",
       " 'phẩm': 522,\n",
       " 'giới': 203,\n",
       " 'thiệu': 619,\n",
       " 'đội': 978,\n",
       " 'hiện': 221,\n",
       " 'tiết': 691,\n",
       " 'đặc': 955,\n",
       " 'khoản': 291,\n",
       " 'hỗ': 273,\n",
       " 'trợ': 754,\n",
       " 'trách': 729,\n",
       " 'nhiệm': 457,\n",
       " 'hoạt': 233,\n",
       " 'thu': 621,\n",
       " 'hồ': 268,\n",
       " 'liên': 350,\n",
       " 'dõi': 163,\n",
       " 'thông': 645,\n",
       " 'báo': 20,\n",
       " 'đề': 958,\n",
       " 'sinh': 566,\n",
       " 'hướng': 255,\n",
       " 'khuyến': 295,\n",
       " 'sát': 578,\n",
       " 'lựa': 384,\n",
       " 'thuận': 626,\n",
       " 'rộng': 561,\n",
       " 'biệt': 15,\n",
       " 'phúc': 514,\n",
       " 'sức': 599,\n",
       " 'khỏe': 308,\n",
       " 'tham': 608,\n",
       " 'thi': 613,\n",
       " 'nộp': 484,\n",
       " 'sơ': 584,\n",
       " 'phận': 523,\n",
       " 'hoàng': 229,\n",
       " 'văn': 859,\n",
       " 'thái': 642,\n",
       " 'tp': 709,\n",
       " 'hcm': 218,\n",
       " 'vị trí': 867,\n",
       " 'tư vấn': 790,\n",
       " 'hợp tác': 279,\n",
       " 'đơn vị': 939,\n",
       " 'việt nam': 847,\n",
       " 'yêu cầu': 903,\n",
       " 'đại học': 944,\n",
       " 'ưu tiên': 988,\n",
       " 'tài chính': 772,\n",
       " 'ngân hàng': 449,\n",
       " 'ứng viên': 999,\n",
       " 'kiến thức': 317,\n",
       " 'kỹ năng': 340,\n",
       " 'tiếp cận': 688,\n",
       " 'mô tả': 404,\n",
       " 'xây dựng': 890,\n",
       " 'quan hệ': 532,\n",
       " 'nhu cầu': 459,\n",
       " 'sản phẩm': 587,\n",
       " 'giới thiệu': 204,\n",
       " 'thực hiện': 678,\n",
       " 'chi tiết': 47,\n",
       " 'quyền lợi': 544,\n",
       " 'hỗ trợ': 274,\n",
       " 'trách nhiệm': 730,\n",
       " 'hoạt động': 234,\n",
       " 'liên quan': 352,\n",
       " 'thông báo': 646,\n",
       " 'vấn đề': 862,\n",
       " 'phát sinh': 500,\n",
       " 'liên hệ': 351,\n",
       " 'báo cáo': 21,\n",
       " 'đặc biệt': 956,\n",
       " 'kinh doanh': 312,\n",
       " 'tham gia': 610,\n",
       " 'nộp hồ': 485,\n",
       " 'hồ sơ': 270,\n",
       " 'tp hcm': 710,\n",
       " 'tín': 784,\n",
       " 'nữ': 488,\n",
       " 'chức': 88,\n",
       " 'danh': 150,\n",
       " 'lĩnh': 366,\n",
       " 'vực': 873,\n",
       " 'nghề': 437,\n",
       " 'chí': 63,\n",
       " 'minh': 391,\n",
       " 'kiếm': 315,\n",
       " 'vay': 841,\n",
       " 'vốn': 869,\n",
       " 'chấp': 74,\n",
       " 'thủ': 671,\n",
       " 'tục': 829,\n",
       " 'xử': 899,\n",
       " 'lý': 365,\n",
       " 'kỷ': 338,\n",
       " 'luật': 358,\n",
       " 'tinh': 682,\n",
       " 'trì': 732,\n",
       " 'thân': 643,\n",
       " 'thiết': 615,\n",
       " 'triển': 718,\n",
       " 'thị': 662,\n",
       " 'trường': 740,\n",
       " 'linh': 347,\n",
       " 'ràng': 558,\n",
       " 'buộc': 17,\n",
       " 'trung': 722,\n",
       " 'tổ': 821,\n",
       " 'thưởng': 653,\n",
       " 'nhập': 464,\n",
       " 'trở': 752,\n",
       " 'yếu': 904,\n",
       " 'hộ': 275,\n",
       " 'khẩu': 307,\n",
       " 'ảnh': 991,\n",
       " 'ms': 395,\n",
       " 'trang': 713,\n",
       " 'mail': 388,\n",
       " 'gmail': 205,\n",
       " 'com': 98,\n",
       " 'tô': 787,\n",
       " 'tín dụng': 785,\n",
       " 'tả công': 798,\n",
       " 'lĩnh vực': 367,\n",
       " 'hồ chí': 269,\n",
       " 'chí minh': 64,\n",
       " 'thủ tục': 672,\n",
       " 'xử lý': 900,\n",
       " 'phát triển': 502,\n",
       " 'liên tục': 353,\n",
       " 'thị trường': 663,\n",
       " 'tổ chức': 822,\n",
       " 'sinh viên': 567,\n",
       " 'bất động': 31,\n",
       " 'động sản': 980,\n",
       " 'thu nhập': 623,\n",
       " 'vui liên': 852,\n",
       " 'gmail com': 206,\n",
       " 'ceo': 42,\n",
       " 'khả': 302,\n",
       " 'tố': 815,\n",
       " 'gọi': 213,\n",
       " 'tối': 817,\n",
       " 'bao': 5,\n",
       " 'nhiêu': 456,\n",
       " 'sống': 594,\n",
       " 'quỹ': 556,\n",
       " 'hạn': 260,\n",
       " 'chiều': 54,\n",
       " 'chuẩn': 59,\n",
       " 'sách': 577,\n",
       " 'trao': 715,\n",
       " 'đổi': 975,\n",
       " 'chế': 79,\n",
       " 'trọng': 751,\n",
       " 'gửi': 215,\n",
       " 'ghi': 179,\n",
       " 'email': 177,\n",
       " 'cạnh': 123,\n",
       " 'tập': 803,\n",
       " 'thoại': 620,\n",
       " 'xác': 887,\n",
       " 'định': 963,\n",
       " 'tiềm': 693,\n",
       " 'câu': 112,\n",
       " 'siêu': 568,\n",
       " 'huấn': 237,\n",
       " 'chào': 60,\n",
       " 'phong': 493,\n",
       " 'chậm': 76,\n",
       " 'cố': 135,\n",
       " 'trực': 758,\n",
       " 'quen': 536,\n",
       " 'nâng': 471,\n",
       " 'lan': 344,\n",
       " 'sổ': 595,\n",
       " 'mục': 423,\n",
       " 'cộng': 140,\n",
       " 'thiện': 618,\n",
       " 'internet': 284,\n",
       " 'cải': 125,\n",
       " 'tổng': 823,\n",
       " 'xét': 893,\n",
       " 'án': 906,\n",
       " 'chăm': 70,\n",
       " 'đừng': 985,\n",
       " 'ngại': 452,\n",
       " 'cktc': 94,\n",
       " 'hữu': 281,\n",
       " 'ích': 911,\n",
       " 'sóng': 580,\n",
       " 'nhật': 468,\n",
       " 'vtv': 850,\n",
       " 'link': 348,\n",
       " 'youtube': 901,\n",
       " 'trình': 733,\n",
       " 'vai': 839,\n",
       " 'trò': 737,\n",
       " 'cổ': 137,\n",
       " 'phản': 520,\n",
       " 'biện': 14,\n",
       " 'click': 95,\n",
       " 'khán': 296,\n",
       " 'giả': 197,\n",
       " 'thành công': 636,\n",
       " 'khả năng': 303,\n",
       " 'yếu tố': 905,\n",
       " 'ảnh hưởng': 992,\n",
       " 'giải pháp': 199,\n",
       " 'trao đổi': 716,\n",
       " 'quan trọng': 534,\n",
       " 'đơn hàng': 938,\n",
       " 'tiếp tục': 690,\n",
       " 'điện thoại': 916,\n",
       " 'xác định': 888,\n",
       " 'tiềm năng': 694,\n",
       " 'siêu thị': 569,\n",
       " 'cố định': 136,\n",
       " 'trực tiếp': 759,\n",
       " 'mục tiêu': 424,\n",
       " 'trở thành': 753,\n",
       " 'ceo cktc': 43,\n",
       " 'hữu ích': 282,\n",
       " 'phát sóng': 501,\n",
       " 'sóng chủ': 581,\n",
       " 'chủ nhật': 85,\n",
       " 'chương trình': 72,\n",
       " 'đăng ký': 935,\n",
       " 'ký tham': 332,\n",
       " 'gia vai': 182,\n",
       " 'vai trò': 840,\n",
       " 'cổ đông': 139,\n",
       " 'phản biện': 521,\n",
       " 'trình ceo': 734,\n",
       " 'link đăng': 349,\n",
       " 'khán giả': 297,\n",
       " 'ghi hình': 180,\n",
       " 'tân': 778,\n",
       " 'bình': 22,\n",
       " 'kiểm': 318,\n",
       " 'tra': 712,\n",
       " 'mềm': 418,\n",
       " 'phù': 511,\n",
       " 'phụ': 527,\n",
       " 'tiếng': 686,\n",
       " 'chốt': 82,\n",
       " 'tuần': 768,\n",
       " 'vn': 848,\n",
       " 'kiểm tra': 320,\n",
       " 'phù hợp': 512,\n",
       " 'mắt': 413,\n",
       " 'cảnh': 128,\n",
       " 'thống': 666,\n",
       " 'tái': 776,\n",
       " 'cấu': 129,\n",
       " 'chiến': 51,\n",
       " 'lược': 370,\n",
       " 'thương': 650,\n",
       " 'giản': 201,\n",
       " 'hồi': 271,\n",
       " 'hệ thống': 265,\n",
       " 'chiến lược': 52,\n",
       " 'thương hiệu': 651,\n",
       " 'đơn giản': 937,\n",
       " 'kinh tế': 314,\n",
       " 'đóng': 929,\n",
       " 'cảm': 126,\n",
       " 'ơn': 986,\n",
       " 'cảm ơn': 127,\n",
       " 'tử': 831,\n",
       " 'nguyễn': 446,\n",
       " 'nguyên': 444,\n",
       " 'lực': 385,\n",
       " 'đạo': 946,\n",
       " 'đồ': 971,\n",
       " 'ngược': 451,\n",
       " 'đích': 927,\n",
       " 'mong': 394,\n",
       " 'giúp': 196,\n",
       " 'cực': 149,\n",
       " 'xã': 891,\n",
       " 'luận': 357,\n",
       " 'ng': 427,\n",
       " 'trị': 749,\n",
       " 'đẹp': 957,\n",
       " 'nghệ': 438,\n",
       " 'ca': 40,\n",
       " 'sĩ': 583,\n",
       " 'kho': 288,\n",
       " 'tải': 799,\n",
       " 'chấm': 73,\n",
       " 'kiện': 322,\n",
       " 'xảy': 896,\n",
       " 'di': 151,\n",
       " 'web': 874,\n",
       " 'lỗi': 378,\n",
       " 'viết': 844,\n",
       " 'đọc': 966,\n",
       " 'phê': 507,\n",
       " 'xã hội': 892,\n",
       " 'thể hiện': 661,\n",
       " 'giá trị': 191,\n",
       " 'đốc công': 968,\n",
       " 'quyết định': 542,\n",
       " 'công nghệ': 116,\n",
       " 'truyền thông': 728,\n",
       " 'ứng dụng': 998,\n",
       " 'doanh thu': 157,\n",
       " 'chính thức': 68,\n",
       " 'lễ': 374,\n",
       " 'khởi': 310,\n",
       " 'mặt': 415,\n",
       " 'in': 283,\n",
       " 'quà': 545,\n",
       " 'hấp': 262,\n",
       " 'trải': 745,\n",
       " 'đh': 913,\n",
       " 'mời': 422,\n",
       " 'dung': 160,\n",
       " 'thất': 656,\n",
       " 'vọng': 868,\n",
       " 'chờ': 83,\n",
       " 'knkd': 323,\n",
       " 'kí': 330,\n",
       " 'dự': 173,\n",
       " 'mắc': 412,\n",
       " 'uel': 836,\n",
       " 'bắt đầu': 35,\n",
       " 'khởi nghiệp': 311,\n",
       " 'nghiệp kinh': 433,\n",
       " 'tế luật': 809,\n",
       " 'nội dung': 483,\n",
       " 'trải nghiệm': 746,\n",
       " 'thi khởi': 614,\n",
       " 'đăng kí': 934,\n",
       " 'usd': 837,\n",
       " 'môi': 405,\n",
       " 'phố': 524,\n",
       " 'tâm': 777,\n",
       " 'tiến': 685,\n",
       " 'quý': 547,\n",
       " 'may': 390,\n",
       " 'khảo': 304,\n",
       " 'mặc': 414,\n",
       " 'quốc': 553,\n",
       " 'ha': 216,\n",
       " 'đất': 949,\n",
       " 'khu': 293,\n",
       " 'đoạn': 919,\n",
       " 'vững': 872,\n",
       " 'hút': 253,\n",
       " 'nguy': 443,\n",
       " 'chân': 61,\n",
       " 'dự án': 175,\n",
       " 'môi trường': 406,\n",
       " 'thành phố': 638,\n",
       " 'trung tâm': 724,\n",
       " 'đầu tư': 952,\n",
       " 'tập đoàn': 805,\n",
       " 'dự kiến': 174,\n",
       " 'một công': 420,\n",
       " 'thu hút': 622,\n",
       " 'công nghiệp': 115,\n",
       " 'cụ': 142,\n",
       " 'quản': 548,\n",
       " 'hóa': 249,\n",
       " 'kiệm': 321,\n",
       " 'đa': 912,\n",
       " 'nhuận': 460,\n",
       " 'khí': 298,\n",
       " 'coi': 97,\n",
       " 'nắm': 478,\n",
       " 'kê': 327,\n",
       " 'đứng': 984,\n",
       " 'top': 703,\n",
       " 'trưởng': 743,\n",
       " 'rút': 559,\n",
       " 'mạng': 409,\n",
       " 'liệu': 354,\n",
       " 'online': 489,\n",
       " 'sử': 600,\n",
       " 'tuyến': 764,\n",
       " 'xuất': 882,\n",
       " 'thuế': 628,\n",
       " 'gấp': 212,\n",
       " 'đôi': 931,\n",
       " 'tnhh': 702,\n",
       " 'đời': 981,\n",
       " 'sót': 582,\n",
       " 'vô': 858,\n",
       " 'quy': 537,\n",
       " 'gói': 209,\n",
       " 'phú': 513,\n",
       " 'lưu': 368,\n",
       " 'công cụ': 114,\n",
       " 'doanh nghiệp': 155,\n",
       " 'quản lý': 549,\n",
       " 'tiết kiệm': 692,\n",
       " 'chi phí': 46,\n",
       " 'cạnh tranh': 124,\n",
       " 'lợi nhuận': 382,\n",
       " 'khu vực': 294,\n",
       " 'văn phòng': 860,\n",
       " 'giao dịch': 188,\n",
       " 'điện tử': 917,\n",
       " 'hình thức': 246,\n",
       " 'sử dụng': 601,\n",
       " 'trực tuyến': 760,\n",
       " 'xuất hóa': 884,\n",
       " 'hóa đơn': 251,\n",
       " 'ty tnhh': 770,\n",
       " 'công tác': 119,\n",
       " 'một doanh': 421,\n",
       " 'cụ thể': 143,\n",
       " 'chuyên nghiệp': 57,\n",
       " 'hình ảnh': 247,\n",
       " 'quy mô': 538,\n",
       " 'sổ sách': 596,\n",
       " 'nộp thuế': 486,\n",
       " 'mô hình': 403,\n",
       " 'toàn cầu': 705,\n",
       " 'tt': 762,\n",
       " 'btc': 16,\n",
       " 'dn': 154,\n",
       " 'tỷ': 832,\n",
       " 'gtgt': 208,\n",
       " 'khấu': 305,\n",
       " 'trừ': 755,\n",
       " 'sửa': 602,\n",
       " 'bổ': 38,\n",
       " 'sung': 571,\n",
       " 'tncn': 700,\n",
       " 'tndn': 701,\n",
       " 'sở': 597,\n",
       " 'hoá': 230,\n",
       " 'cung': 102,\n",
       " 'độ': 976,\n",
       " 'tượng': 795,\n",
       " 'thuê': 625,\n",
       " 'cá': 105,\n",
       " 'hạch': 258,\n",
       " 'đáp': 923,\n",
       " 'tt btc': 763,\n",
       " 'quy định': 539,\n",
       " 'thành lập': 637,\n",
       " 'kê khai': 328,\n",
       " 'khai thuế': 287,\n",
       " 'thuế gtgt': 630,\n",
       " 'khấu trừ': 306,\n",
       " 'sửa đổi': 603,\n",
       " 'bổ sung': 39,\n",
       " 'thuế tncn': 633,\n",
       " 'trừ thuế': 756,\n",
       " 'tỷ đồng': 835,\n",
       " 'chế độ': 80,\n",
       " 'hoá đơn': 231,\n",
       " 'pháp luật': 496,\n",
       " 'thuế giá': 629,\n",
       " 'trị gia': 750,\n",
       " 'trường hợp': 741,\n",
       " 'đối tượng': 970,\n",
       " 'tài sản': 774,\n",
       " 'chức cá': 89,\n",
       " 'cá nhân': 106,\n",
       " 'hạch toán': 259,\n",
       " 'toán thuế': 707,\n",
       " 'quan thuế': 533,\n",
       " 'thông tư': 647,\n",
       " 'tư tt': 789,\n",
       " 'đáp ứng': 924,\n",
       " 'chỉnh': 81,\n",
       " 'tệ': 811,\n",
       " 'âm': 909,\n",
       " 'lao': 345,\n",
       " 'ổn': 994,\n",
       " 'chính sách': 67,\n",
       " 'xuất khẩu': 885,\n",
       " 'quốc tế': 555,\n",
       " 'quan tâm': 535,\n",
       " 'ổn định': 995,\n",
       " 'khoa': 289,\n",
       " 'marketing': 389,\n",
       " 'tưởng': 794,\n",
       " 'đô': 930,\n",
       " 'cà': 104,\n",
       " 'mai': 387,\n",
       " 'hôm': 252,\n",
       " 'niềm': 469,\n",
       " 'mê': 401,\n",
       " 'trẻ': 748,\n",
       " 'chuyên ngành': 58,\n",
       " 'triệu đồng': 721,\n",
       " 'cộng đồng': 141,\n",
       " 'ấn': 993,\n",
       " 'ma': 386,\n",
       " 'sa': 564,\n",
       " 'thư': 649,\n",
       " 'thẻ': 659,\n",
       " 'facebook': 178,\n",
       " 'cư': 122,\n",
       " 'trú': 738,\n",
       " 'nghị': 440,\n",
       " 'phạt': 519,\n",
       " 'khoán': 290,\n",
       " 'phép': 506,\n",
       " 'ủy': 996,\n",
       " 'thay': 611,\n",
       " 'lai': 343,\n",
       " 'quân': 546,\n",
       " 'cũ': 121,\n",
       " 'mẹ': 417,\n",
       " 'xăng': 894,\n",
       " 'dầu': 168,\n",
       " 'nêu': 472,\n",
       " 'quyết toán': 541,\n",
       " 'thời hạn': 669,\n",
       " 'tiền lương': 696,\n",
       " 'đề nghị': 960,\n",
       " 'đồng lao': 973,\n",
       " 'lao động': 346,\n",
       " 'đồng thời': 974,\n",
       " 'bắt buộc': 34,\n",
       " 'tỷ lệ': 833,\n",
       " 'thuế thu': 632,\n",
       " 'xăng dầu': 895,\n",
       " 'vòng': 857,\n",
       " 'cân': 110,\n",
       " 'sắc': 589,\n",
       " 'bố': 37,\n",
       " 'đón': 928,\n",
       " 'tốc': 816,\n",
       " 'bày': 19,\n",
       " 'thảo': 655,\n",
       " 'công bố': 113,\n",
       " 'huy động': 236,\n",
       " 'đường': 941,\n",
       " 'dấu': 167,\n",
       " 'bệnh': 36,\n",
       " 'gốc': 214,\n",
       " 'tỉ': 812,\n",
       " 'lãi': 360,\n",
       " 'suất': 573,\n",
       " 'lục': 383,\n",
       " 'chính kinh': 65,\n",
       " 'giá vàng': 192,\n",
       " 'trung quốc': 723,\n",
       " 'chủ đề': 87,\n",
       " 'phát hiện': 498,\n",
       " 'lãi suất': 361,\n",
       " 'phó': 510,\n",
       " 'dương': 166,\n",
       " 'trạng': 744,\n",
       " 'trần': 747,\n",
       " 'sữa': 604,\n",
       " 'khối': 309,\n",
       " 'vi': 842,\n",
       " 'phạm': 518,\n",
       " 'thiểu': 617,\n",
       " 'chức năng': 90,\n",
       " 'tình trạng': 782,\n",
       " 'tuyển dụng': 766,\n",
       " 'tối thiểu': 818,\n",
       " 'xe': 877,\n",
       " 'tài khoản': 773,\n",
       " 'mỹ': 425,\n",
       " 'đình': 926,\n",
       " 'phường': 517,\n",
       " 'bhxh': 8,\n",
       " 'năng lực': 475,\n",
       " 'toán tổng': 708,\n",
       " 'tổng hợp': 826,\n",
       " 'lẻ': 373,\n",
       " 'phiếu': 492,\n",
       " 'trái': 731,\n",
       " 'trữ': 757,\n",
       " 'giai': 184,\n",
       " 'suy': 572,\n",
       " 'hầu': 263,\n",
       " 'sản xuất': 588,\n",
       " 'tỷ usd': 834,\n",
       " 'hợp lý': 278,\n",
       " 'cổ phiếu': 138,\n",
       " 'tiền mặt': 697,\n",
       " 'chứng khoán': 92,\n",
       " 'thay đổi': 612,\n",
       " 'giai đoạn': 185,\n",
       " 'gạo': 211,\n",
       " 'khăn': 301,\n",
       " 'nợ': 487,\n",
       " 'vật': 864,\n",
       " 'viện': 845,\n",
       " 'truy': 725,\n",
       " 'châu': 62,\n",
       " 'âu': 910,\n",
       " 'hoạch': 232,\n",
       " 'lãnh': 362,\n",
       " 'nghị định': 441,\n",
       " 'kế hoạch': 334,\n",
       " 'lãnh đạo': 363,\n",
       " 'tịch': 814,\n",
       " 'lê': 364,\n",
       " 'chủ tịch': 86,\n",
       " 'quốc gia': 554,\n",
       " 'cáo tài': 109,\n",
       " 'tham dự': 609,\n",
       " 'xấu': 897,\n",
       " 'chiếm': 50,\n",
       " 'mại': 408,\n",
       " 'nằm': 479,\n",
       " 'hạ': 257,\n",
       " 'phủ': 530,\n",
       " 'hãng': 244,\n",
       " 'thương mại': 652,\n",
       " 'chính phủ': 66,\n",
       " 'ngoại': 442,\n",
       " 'kg': 285,\n",
       " 'cục': 144,\n",
       " 'miễn': 392,\n",
       " 'sàn': 575,\n",
       " 'bảng': 25,\n",
       " 'biểu': 13,\n",
       " 'kém': 326,\n",
       " 'cắt': 134,\n",
       " 'mặt hàng': 416,\n",
       " 'nhập khẩu': 466,\n",
       " 'xuất kinh': 886,\n",
       " 'cập': 132,\n",
       " 'môn': 407,\n",
       " 'bhyt': 9,\n",
       " 'cập nhật': 133,\n",
       " 'nghiệp vụ': 434,\n",
       " 'bctc': 7,\n",
       " 'giáo': 195,\n",
       " 'thủy': 673,\n",
       " 'cán': 107,\n",
       " 'đẩy': 953,\n",
       " 'bắc': 32,\n",
       " 'thác': 641,\n",
       " 'đãi': 925,\n",
       " 'sẵn': 590,\n",
       " 'sàng': 576,\n",
       " 'nông': 473,\n",
       " 'hàng hóa': 240,\n",
       " 'ưu đãi': 989,\n",
       " 'sẵn sàng': 591,\n",
       " 'ko': 324,\n",
       " 'thuế tndn': 634,\n",
       " 'tắc': 806,\n",
       " 'tuyệt': 767,\n",
       " 'nổi': 481,\n",
       " 'nghĩa': 436,\n",
       " 'dòng': 162,\n",
       " 'phổ': 526,\n",
       " 'bại': 24,\n",
       " 'cứu': 146,\n",
       " 'nguyên tắc': 445,\n",
       " 'cân đối': 111,\n",
       " 'thất bại': 657,\n",
       " 'độc': 977,\n",
       " 'thử': 676,\n",
       " 'bàn': 18,\n",
       " 'lộ': 379,\n",
       " 'xuyên': 880,\n",
       " 'nghìn': 435,\n",
       " 'ngân sách': 450,\n",
       " 'gia đình': 183,\n",
       " 'phục vụ': 529,\n",
       " 'tình hình': 781,\n",
       " 'nh': 454,\n",
       " 'đánh': 921,\n",
       " 'tồn': 819,\n",
       " 'cp': 99,\n",
       " 'tết': 810,\n",
       " 'dư': 164,\n",
       " 'sâu': 579,\n",
       " 'phối': 525,\n",
       " 'rẻ': 560,\n",
       " 'hđqt': 254,\n",
       " 'soát': 570,\n",
       " 'tiện': 698,\n",
       " 'xu hướng': 879,\n",
       " 'thực phẩm': 680,\n",
       " 'tồn kho': 820,\n",
       " 'tổng giám': 825,\n",
       " 'đánh giá': 922,\n",
       " 'dư nợ': 165,\n",
       " 'kiểm soát': 319,\n",
       " 'ban hành': 4,\n",
       " 'thuật': 627,\n",
       " 'kỹ thuật': 341,\n",
       " 'công trình': 118,\n",
       " 'cục thuế': 145,\n",
       " 'thành viên': 640,\n",
       " 'apple': 2,\n",
       " 'sư': 585,\n",
       " 'vệ': 865,\n",
       " 'trường đại': 742,\n",
       " 'bảo vệ': 29,\n",
       " 'thai': 607,\n",
       " 'va': 838,\n",
       " 'nuôi': 470,\n",
       " 'mẫu': 410,\n",
       " 'cu': 101,\n",
       " 'nga': 428,\n",
       " 'co': 96,\n",
       " 'chữa': 93,\n",
       " 'la': 342,\n",
       " 'hiệu lực': 223,\n",
       " 'hiểm xã': 220,\n",
       " 'tập trung': 804,\n",
       " 'phiên': 491,\n",
       " 'thí': 644,\n",
       " 'mã': 400,\n",
       " 'tỉnh': 813,\n",
       " 'tct': 606,\n",
       " 'tổng cục': 824,\n",
       " 'tờ khai': 828,\n",
       " 'triển khai': 719,\n",
       " 'hoàn thành': 227,\n",
       " 'ch': 44,\n",
       " 'đại diện': 943,\n",
       " 'đề xuất': 961,\n",
       " 'nghiên': 429,\n",
       " 'nghiệp gia': 432,\n",
       " 'nghiên cứu': 430,\n",
       " 'đề doanh': 959,\n",
       " 'chiếu': 53,\n",
       " 'tặng': 807,\n",
       " 'lớp': 380,\n",
       " 'nối': 480,\n",
       " 'quản trị': 550,\n",
       " 'luật thuế': 359,\n",
       " 'tương lai': 792,\n",
       " 'lạc': 371,\n",
       " 'an toàn': 1,\n",
       " 'xuất hiện': 883,\n",
       " 'định khoản': 964,\n",
       " 'công nợ': 117,\n",
       " 'xanh': 876,\n",
       " 'thiết kế': 616,\n",
       " 'phát hành': 499,\n",
       " 'ví': 855,\n",
       " 'dụ': 171,\n",
       " 'doanh nhân': 156,\n",
       " 'sở hữu': 598,\n",
       " 'ví dụ': 856,\n",
       " 'sài': 574,\n",
       " 'long': 356,\n",
       " 'đợt': 982,\n",
       " 'vé': 854,\n",
       " 'miễn phí': 393,\n",
       " 'thỏa': 664,\n",
       " 'hòa': 248,\n",
       " 'đức': 983,\n",
       " 'thỏa thuận': 665,\n",
       " 'hải': 261,\n",
       " 'công văn': 120,\n",
       " 'nhập thuế': 467,\n",
       " 'trích': 736,\n",
       " 'mật': 411,\n",
       " 'tiếp thị': 689,\n",
       " 'giàu': 189,\n",
       " 'ty cổ': 769,\n",
       " 'nđ': 476,\n",
       " 'định nđ': 965,\n",
       " 'nđ cp': 477,\n",
       " 'học kinh': 267,\n",
       " 'tạm': 796,\n",
       " 'biên': 11,\n",
       " 'xuân': 881,\n",
       " 'khoản tiền': 292,\n",
       " 'phân phối': 504,\n",
       " 'tscđ': 761,\n",
       " 'hóa dịch': 250,\n",
       " 'nhượng': 463,\n",
       " 'tk': 699,\n",
       " 'bảng kê': 26,\n",
       " 'thuế suất': 631,\n",
       " 'hàng đầu': 241,\n",
       " 'phi': 490,\n",
       " 'nhập cá': 465,\n",
       " 'đại lý': 945,\n",
       " 'google': 207,\n",
       " 'bitcoin': 10,\n",
       " 'đương': 940,\n",
       " 'tương đương': 793,\n",
       " 'muối': 398,\n",
       " 'tribeco': 717}"
      ]
     },
     "execution_count": 197,
     "metadata": {},
     "output_type": "execute_result"
    }
   ],
   "source": [
    "# sorted(Tfidf_vect_outlier.vocabulary_, reverse=True)\n",
    "Tfidf_vect_outlier.vocabulary_"
   ]
  },
  {
   "cell_type": "code",
   "execution_count": 153,
   "metadata": {},
   "outputs": [],
   "source": [
    "predictions_SVM_outlier = predictions_SVM_outlier.tolist()\n",
    "predictions = []\n",
    "for label in predictions_SVM:\n",
    "    if label == '__label__outlier':\n",
    "        predictions.append(predictions_SVM_outlier.pop(0))\n",
    "    else:\n",
    "        predictions.append(label)"
   ]
  },
  {
   "cell_type": "code",
   "execution_count": 154,
   "metadata": {},
   "outputs": [
    {
     "name": "stdout",
     "output_type": "stream",
     "text": [
      "                                       precision    recall  f1-score   support\n",
      "\n",
      "                   __label__chinh_tri       0.97      0.98      0.97       341\n",
      "         __label__con_nguoi_va_xa_hoi       0.95      0.99      0.97       161\n",
      "               __label__cong_nghe_moi       1.00      0.62      0.76        13\n",
      "            __label__do_an_va_do_uong       0.99      0.99      0.99       948\n",
      "                     __label__du_lich       0.99      0.97      0.98       366\n",
      "                    __label__giai_tri       0.97      1.00      0.99        74\n",
      "                    __label__giao_duc       0.95      0.94      0.95       269\n",
      "                  __label__giao_thong       1.00      0.97      0.99        37\n",
      "                    __label__khoa_hoc       0.98      0.88      0.93        65\n",
      "   __label__kinh_doanh_va_cong_nghiep       0.65      0.76      0.70       950\n",
      "         __label__lam_dep_va_the_hinh       0.99      0.92      0.95       125\n",
      " __label__mang_internet_va_vien_thong       1.00      0.98      0.99       233\n",
      "__label__may_tinh_va_thiet_bi_dien_tu       1.00      0.93      0.96        88\n",
      "                     __label__mua_sam       0.94      0.97      0.95       466\n",
      "                  __label__nghe_thuat       1.00      1.00      1.00       245\n",
      "                     __label__nha_dat       0.98      0.99      0.98      1027\n",
      "                 __label__nha_va_vuon       1.00      0.95      0.98       103\n",
      "                   __label__phap_luat       0.87      0.89      0.88        37\n",
      "                        __label__sach       0.99      0.95      0.97       155\n",
      "        __label__suc_khoe_va_benh_tat       0.87      0.82      0.85        73\n",
      "                   __label__tai_chinh       0.47      0.34      0.40       522\n",
      "                    __label__the_thao       1.00      0.85      0.92        33\n",
      "       __label__thoi_quen_va_so_thich       1.00      0.93      0.96        69\n",
      "\n",
      "                             accuracy                           0.89      6400\n",
      "                            macro avg       0.94      0.90      0.91      6400\n",
      "                         weighted avg       0.89      0.89      0.89      6400\n",
      "\n"
     ]
    }
   ],
   "source": [
    "print(classification_report(y_test,predictions))"
   ]
  },
  {
   "cell_type": "code",
   "execution_count": 217,
   "metadata": {},
   "outputs": [
    {
     "data": {
      "text/plain": [
       "['side_model.joblib']"
      ]
     },
     "execution_count": 217,
     "metadata": {},
     "output_type": "execute_result"
    }
   ],
   "source": [
    "dump(SVM, 'main_model.joblib')\n",
    "dump(SVM_outlier, 'side_model.joblib')"
   ]
  },
  {
   "cell_type": "code",
   "execution_count": 218,
   "metadata": {},
   "outputs": [],
   "source": [
    "SVM = load('main_model.joblib')\n",
    "SVM_outlier = load('side_model.joblib')"
   ]
  },
  {
   "cell_type": "code",
   "execution_count": 219,
   "metadata": {},
   "outputs": [
    {
     "data": {
      "text/plain": [
       "SVC(C=1, cache_size=200, class_weight=None, coef0=0.0,\n",
       "    decision_function_shape='ovr', degree=3, gamma=1, kernel='linear',\n",
       "    max_iter=-1, probability=False, random_state=None, shrinking=True,\n",
       "    tol=0.001, verbose=False)"
      ]
     },
     "execution_count": 219,
     "metadata": {},
     "output_type": "execute_result"
    }
   ],
   "source": [
    "SVM"
   ]
  },
  {
   "cell_type": "markdown",
   "metadata": {},
   "source": [
    "Fasttext - test model"
   ]
  },
  {
   "cell_type": "code",
   "execution_count": 1608,
   "metadata": {},
   "outputs": [],
   "source": [
    "fasttext.train_supervised(input='outlier_train.txt', maxn=0, minn=0, bucket=785249, neg=5, ws=5, dim=53,\n",
    "                                  epoch=2, lr=1.0, wordNgrams=5, verbose=2, minCount=1, loss='softmax', thread=4).save_model('cv_model_outlier.bin')"
   ]
  },
  {
   "cell_type": "code",
   "execution_count": 547,
   "metadata": {},
   "outputs": [
    {
     "data": {
      "text/plain": [
       "{'__label__kinh_doanh_va_cong_nghiep': {'precision': 0.5803757828810021,\n",
       "  'recall': 0.5978494623655914,\n",
       "  'f1score': 0.5889830508474576},\n",
       " '__label__tai_chinh': {'precision': 0.277992277992278,\n",
       "  'recall': 0.26373626373626374,\n",
       "  'f1score': 0.2706766917293233}}"
      ]
     },
     "execution_count": 547,
     "metadata": {},
     "output_type": "execute_result"
    }
   ],
   "source": [
    "# model = fasttext.load_model(\"cv_model_outlier.bin\")\n",
    "model.test_label('outlier_true_test.txt')"
   ]
  },
  {
   "cell_type": "code",
   "execution_count": null,
   "metadata": {},
   "outputs": [],
   "source": []
  }
 ],
 "metadata": {
  "kernelspec": {
   "display_name": "Python 3",
   "language": "python",
   "name": "python3"
  },
  "language_info": {
   "codemirror_mode": {
    "name": "ipython",
    "version": 3
   },
   "file_extension": ".py",
   "mimetype": "text/x-python",
   "name": "python",
   "nbconvert_exporter": "python",
   "pygments_lexer": "ipython3",
   "version": "3.7.0"
  }
 },
 "nbformat": 4,
 "nbformat_minor": 2
}
